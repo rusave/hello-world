{
  "nbformat": 4,
  "nbformat_minor": 0,
  "metadata": {
    "colab": {
      "provenance": [],
      "toc_visible": true,
      "include_colab_link": true
    },
    "kernelspec": {
      "display_name": "Python 3",
      "language": "python",
      "name": "python3"
    },
    "language_info": {
      "codemirror_mode": {
        "name": "ipython",
        "version": 3
      },
      "file_extension": ".py",
      "mimetype": "text/x-python",
      "name": "python",
      "nbconvert_exporter": "python",
      "pygments_lexer": "ipython3",
      "version": "3.7.6"
    }
  },
  "cells": [
    {
      "cell_type": "markdown",
      "metadata": {
        "id": "view-in-github",
        "colab_type": "text"
      },
      "source": [
        "<a href=\"https://colab.research.google.com/github/rusave/lab0/blob/main/zkou%C5%A1ka%20ulo%C5%BEeni_Lab_0_%E2%80%93_Introduction_to_Python_and_Basic_Machine_Learning.ipynb\" target=\"_parent\"><img src=\"https://colab.research.google.com/assets/colab-badge.svg\" alt=\"Open In Colab\"/></a>"
      ]
    },
    {
      "cell_type": "markdown",
      "metadata": {
        "id": "H5RYrb2W8_Ke"
      },
      "source": [
        "![Header Lab 0](https://su2.utia.cas.cz/files/labs/23-200/header1.png)\n",
        "\n",
        "This introductory lab provides a comprehensive grounding in essential tools and techniques needed for subsequent labs. Participants will learn to use Google Colab, Github, and ChatGPT, exploring fundamental Python coding and machine learning algorithms. In addition, we will familiarize ourselves with various machine learning libraries, ensuring a solid foundation for future labs.\n",
        "\n",
        "**Course website:** [su2.utia.cas.cz/labs.html](https://su2.utia.cas.cz/labs.html)"
      ]
    },
    {
      "cell_type": "markdown",
      "metadata": {
        "id": "a6ZZfC2Rl9f4"
      },
      "source": [
        "# Part 1: Labs orientation\n"
      ]
    },
    {
      "cell_type": "markdown",
      "metadata": {
        "id": "GGimqWi--Joj"
      },
      "source": [
        "## Schedule\n",
        "Lab 0 – Introduction to Python and Basic Machine Learning (optional)\n",
        "\n",
        "Lab 1 – Fundamentals of Deep Learning with PyTorch\n",
        "\n",
        "Lab 2 – Image Classification, Transfer Learning, and Object Detection\n",
        "\n",
        "Lab 3 – Image Processing with Deep Learning\n",
        "\n",
        "Lab 4 – Sequence Models and NLP\n",
        "\n",
        "Lab 5 – Advanced Vision and Generative Models\n",
        "\n",
        "Lab 6 – Project Presentation (mandatory ❗)\n",
        "\n",
        "**Attendance:**\n",
        "\n",
        "Students are allowed to miss up to 20% of the total in-person sessions. This means only one lab from Labs 1–5 can be missed. Lab 0 is voluntary and not counted in the absence limit. Attendance at Lab 6, the Project Presentation, is mandatory for all students to pass the course.\n",
        "<br /><br />\n",
        "Attendance consist of:\n",
        "1.   Being present during the Lab session\n",
        "2.   Completing all exercises (✍🏼)\n",
        "3.   Saving changes to GitHub within 7 days of each Lab session\n",
        "\n",
        "\n"
      ]
    },
    {
      "cell_type": "markdown",
      "metadata": {
        "id": "TKHikDB5-0Ga"
      },
      "source": [
        "## Final assessment and class competition\n",
        "\n",
        "Students will work on machine learning projects (in groups of 2) to demonstrate their programming and deep learning skills mastered throughout the course. During the final labs, a class competition will be held and students will present projects in front of a committee. The winning team will be eligible for prize.\n",
        "  \n",
        "<strong>Instruction, evaluation and other info:</strong>\n",
        "<a href=\"https://su2.utia.cas.cz/labs.html#projects\">https://su2.utia.cas.cz/labs.html#projects</a>\n",
        "                       "
      ]
    },
    {
      "cell_type": "markdown",
      "metadata": {
        "id": "IX49ai4PCPXt"
      },
      "source": [
        "## Recommended reading:\n",
        "1.   [Godoy: Deep Learning with PyTorch Step-by-Step](https://leanpub.com/pytorch)\n",
        "2.   [Stevens, Antiga & Viehmann: Deep Learning with PyTorch](https://isip.piconepress.com/courses/temple/ece_4822/resources/books/Deep-Learning-with-PyTorch.pdf)\n",
        "3.   [Goodfellow: Deep Learning](https://www.deeplearningbook.org/)\n",
        "3.   [A. Torralba, P. Isola and W. T. Freeman: Foundations of Computer Vision](https://mitpress.mit.edu/9780262048972/foundations-of-computer-vision/)"
      ]
    },
    {
      "cell_type": "markdown",
      "metadata": {
        "id": "65KbU0oxmLnX"
      },
      "source": [
        "# Part 2: Colab"
      ]
    },
    {
      "cell_type": "markdown",
      "metadata": {
        "id": "eNVr6pE2PpY_"
      },
      "source": [
        "<a href=\"https://colab.research.google.com/\"><img src=\"https://su2.utia.cas.cz/files/labs/23-200/colab_logo.png\"\n",
        " align=\"right\"></a>There are several benefits of using Colab over using your own local machines:\n",
        "\n",
        "* You do not require to do an [environment setup](https://docs.conda.io/projects/conda/en/latest/index.html).\n",
        "* Browser-based [Jupyter Notebooks](https://jupyter.org/) with important [packages](https://pypi.org/) pre-installed\n",
        "* Document code with [Markdown](https://colab.research.google.com/notebooks/markdown_guide.ipynb)\n",
        "* Load Data from (and save to) [Local Drive and Google Drive](https://colab.research.google.com/notebooks/io.ipynb)\n",
        "* Importing [Notebooks from Github](https://colab.research.google.com/github/googlecolab/colabtools/blob/master/notebooks/colab-github-demo.ipynb#scrollTo=K-NVg7RjyeTk)\n",
        "* [Sharing](https://www.tutorialspoint.com/google_colab/google_colab_sharing_notebook.htm) with others\n",
        "* [Free GPU](https://www.tutorialspoint.com/google_colab/google_colab_using_free_gpu.htm)\n",
        "\n",
        "[How to use colab](https://colab.research.google.com/notebooks/basic_features_overview.ipynb)\n",
        "\n",
        "[Check one of the many youtube tutorials.](https://www.youtube.com/watch?v=RLYoEyIHL6A)\n",
        "\n",
        "[A Complete guide to Google Colab for Deep Learning](https://www.kdnuggets.com/2020/06/google-colab-deep-learning.html)\n",
        "\n",
        "[Advanced Google Colab Tips](https://amitness.com/2020/06/google-colaboratory-tips/)\n",
        "\n",
        "\n"
      ]
    },
    {
      "cell_type": "markdown",
      "metadata": {
        "id": "q3Q2Ys-DcXbb"
      },
      "source": [
        "## ✍🏼 Excercise 1"
      ]
    },
    {
      "cell_type": "markdown",
      "metadata": {
        "id": "BjhCP5hSAOz9"
      },
      "source": [
        "*Help me find the best tutorials for Google Colab and share up to three links that you found.*\n",
        "\n",
        "\n",
        "1.   ...\n",
        "2.   ...\n",
        "3.   ...\n",
        "\n",
        "\n"
      ]
    },
    {
      "cell_type": "markdown",
      "metadata": {
        "id": "kNAqrM59Sp0S"
      },
      "source": [
        "# Part 3: GitHub"
      ]
    },
    {
      "cell_type": "markdown",
      "metadata": {
        "id": "v1XwYQA7ag9m"
      },
      "source": [
        "**What is Git?**\n",
        "\n",
        "Git is a widely utilized system for version control, enabling users to track and record changes made to files. With Git, users can revisit and restore previous versions of files if necessary. Additionally, Git facilitates collaboration by allowing multiple individuals to merge their changes into a single source.\n",
        "\n",
        "<img src=\"https://su2.utia.cas.cz/files/labs/23-200/git.png\">\n",
        "\n",
        "**What is GitHub?**\n",
        "\n",
        "<a href=\"https://github.com/\"><img src=\"https://su2.utia.cas.cz/files/labs/23-200/github_logo.png\"\n",
        " align=\"right\"></a>\n",
        "GitHub is a platform that hosts code and supports version control and collaborative work on projects, enabling users to collaborate from any location.\n",
        "\n",
        "[What is GitHub?](https://www.youtube.com/watch?v=w3jLJU7DT5E)\n",
        "\n",
        "[Start using GitHub.](https://guides.github.com/activities/hello-world/)\n",
        "\n",
        "[Create a repo.](https://docs.github.com/en/get-started/quickstart/create-a-repo)\n",
        "\n"
      ]
    },
    {
      "cell_type": "markdown",
      "metadata": {
        "id": "LqcVV_jBCS_c"
      },
      "source": [
        "## ✍🏼 Excercise 2"
      ]
    },
    {
      "cell_type": "markdown",
      "metadata": {
        "id": "nQvVCZFnCT_J"
      },
      "source": [
        "1. *Create a public repository on your GitHub account and create your first commit. [You can start here](https://guides.github.com/activities/hello-world/).*\n",
        "2. *Open New Notebook on [colab.research.google.com](https://colab.research.google.com/)*\n",
        "3. *Save Notebook to your new repository.*\n",
        "\n",
        "*When finished, write down link to your repo.*\n",
        "\n",
        "> Link to your repository:\n",
        "\n"
      ]
    },
    {
      "cell_type": "markdown",
      "source": [],
      "metadata": {
        "id": "1s9n4OUzp0Ds"
      }
    },
    {
      "cell_type": "markdown",
      "metadata": {
        "id": "WuREQMOeZV9s"
      },
      "source": [
        "# Part 4: LLM for machine learning\n",
        "\n",
        "[ChatGPT](https://chat.openai.com/)\n",
        "[Gemini](https://gemini.google.com/app)\n",
        "[Claude](https://claude.ai/)\n",
        "[Grok-2](https://x.ai/)\n",
        "[Perplexity](https://www.perplexity.ai/)\n",
        "\n",
        "<img src=\"https://su2.utia.cas.cz/files/labs/23-200/chat1.png\">\n",
        "<img src=\"https://su2.utia.cas.cz/files/labs/23-200/chat2.png\">\n",
        "<img src=\"https://su2.utia.cas.cz/files/labs/23-200/chat3.png\">"
      ]
    },
    {
      "cell_type": "markdown",
      "metadata": {
        "id": "RZrAD30EZV9t"
      },
      "source": [
        "## ✍🏼 Excercise 3\n",
        "\n",
        "### Prompt engineering\n",
        "<a href=\"https://learnprompting.org/docs/basics/formalizing\"><img src=\"https://su2.utia.cas.cz/files/labs/23-200/prochat.png\"></a>\n",
        "\n",
        "\n",
        "Prompt engineering is a way to talk to an AI so it gives the answers you want. It's an important skill for using AI effectively in different tasks.\n",
        " <br /> <br />\n",
        "**Learn prompting**\n",
        "*   [promptovani.cz](https://promptovani.cz/)\n",
        "*   [learnprompting.org](https://learnprompting.org/docs/intro)\n",
        "*   [www.learnprompt.org](https://www.learnprompt.org/)\n",
        " <br /> <br />\n",
        "\n",
        "There are a few different parts of a prompt that you will see over and over again.\n",
        "\n",
        " The **Persona** outlines the role that the AI should take on. The **Context** provides the necessary background to frame the task at hand. The **Task** spells out the specific action that the AI is instructed to carry out. The **Format** dictates how the response should be structured. An **Example** serves as a model for what the expected response should look like. Lastly, the **Tone** sets the emotional or stylistic mood for the interaction.\n",
        "\n",
        "\n",
        "✍🏼 TASK: Could you identify these parts in the following prompt, if they are present?\"\n",
        "\n",
        "<img src=\"https://su2.utia.cas.cz/files/labs/23-200/prompt_task.png\">\n",
        "\n",
        "Also don't forget to try the prompt. ✨"
      ]
    },
    {
      "cell_type": "markdown",
      "metadata": {
        "id": "VJrgE1rHgaNc"
      },
      "source": [
        "<h3>Add your answers...</h3>"
      ]
    },
    {
      "cell_type": "markdown",
      "metadata": {
        "id": "s51hLtePmLzE"
      },
      "source": [
        "# Part 5: Python Crash Course"
      ]
    },
    {
      "cell_type": "markdown",
      "metadata": {
        "id": "nB5Za7q9rUIn"
      },
      "source": [
        "## Python\n",
        "*   high-level, object-oriented, general purpose programming language\n",
        "*   open source (free to use and distribute, including for commercial purposes)\n",
        "*   interpreted (no need to compile the code)\n",
        "*   simple-to-learn syntax and excellent readability\n",
        "*   large community\n",
        "*   numerous libraries for scientific computing"
      ]
    },
    {
      "cell_type": "markdown",
      "metadata": {
        "id": "LuknXk6W7sXL"
      },
      "source": [
        "**Essentials**\n",
        "* [Python code structure, variables, functions, conditions, loops](https://coobas.gitlab.io/python-fjfi/en/posts/zakladni-syntaxe.html)\n",
        "* [Containers: tuple, list, set, dict](https://coobas.gitlab.io/python-fjfi/en/posts/kontejnery.html)\n",
        "* [Object oriented programming](https://coobas.gitlab.io/python-fjfi/en/posts/objektove-orientovane-programovani.html)\n",
        "* Packages: [Numpy](https://coobas.gitlab.io/python-fjfi/en/posts/zaklady-numpy.html), [Matplotlib](https://coobas.gitlab.io/python-fjfi/posts/matplotlib.html)\n",
        "\n",
        "**Learn Python**\n",
        "* [FJFI Python Tutorial](https://coobas.gitlab.io/python-fjfi/)\n",
        "* [Introduction to Python](https://pythonprogramming.net/introduction-learn-python-3-tutorials/)\n",
        "* [Intermediate Python Programming introduction](https://pythonprogramming.net/introduction-intermediate-python-tutorial/)\n",
        "* [Python cheat sheet](https://www.pythoncheatsheet.org/)\n",
        "* [Sharpen your python skills on CodeWars](https://www.codewars.com)\n",
        "\n",
        "Useful prompt for learning python code:\n",
        "\n",
        "\n",
        "```\n",
        "Could you be my Socratic teacher? Teach me using the Socratic method, never providing direct answers, and asking only one question at a time.\n",
        "```\n",
        "\n"
      ]
    },
    {
      "cell_type": "markdown",
      "metadata": {
        "id": "RHFxsV4slGgm"
      },
      "source": [
        "### Variable assignment and basic operations"
      ]
    },
    {
      "cell_type": "markdown",
      "metadata": {
        "id": "2nvGtSoMlGgm"
      },
      "source": [
        "assign number $ 4 $ to variable $ x $ and print the value of $ x $:"
      ]
    },
    {
      "cell_type": "code",
      "metadata": {
        "scrolled": true,
        "id": "9iOX5P4YlGgm",
        "colab": {
          "base_uri": "https://localhost:8080/"
        },
        "outputId": "a18a538e-d518-4a6e-f0ca-8822bb02254a"
      },
      "source": [
        "x = 4\n",
        "print(x)"
      ],
      "execution_count": null,
      "outputs": [
        {
          "output_type": "stream",
          "name": "stdout",
          "text": [
            "4\n"
          ]
        }
      ]
    },
    {
      "cell_type": "markdown",
      "metadata": {
        "id": "KIsY7yPalGgn"
      },
      "source": [
        "print the type of variable $ x $ using the [`type`](https://docs.python.org/3/library/functions.html#type) function:"
      ]
    },
    {
      "cell_type": "code",
      "metadata": {
        "id": "icmuzpxZlGgo",
        "colab": {
          "base_uri": "https://localhost:8080/"
        },
        "outputId": "65900af8-931c-4c0f-a338-81958c5d4cdb"
      },
      "source": [
        "type(x)"
      ],
      "execution_count": null,
      "outputs": [
        {
          "output_type": "execute_result",
          "data": {
            "text/plain": [
              "int"
            ]
          },
          "metadata": {},
          "execution_count": 2
        }
      ]
    },
    {
      "cell_type": "markdown",
      "metadata": {
        "id": "YMcl0cgelGgo"
      },
      "source": [
        "single-line comments:"
      ]
    },
    {
      "cell_type": "code",
      "metadata": {
        "id": "D7AuSknXlGgo"
      },
      "source": [
        "# this is a single-line comment"
      ],
      "execution_count": null,
      "outputs": []
    },
    {
      "cell_type": "markdown",
      "metadata": {
        "id": "Pf99m4lhlGgp"
      },
      "source": [
        "assign number $ 2 $ to variable $ a $, assign number $ 4 $ to variable $ b $, and print sum, difference, product, and quotient of both variables:"
      ]
    },
    {
      "cell_type": "code",
      "metadata": {
        "scrolled": true,
        "id": "WGTtsWDelGgp",
        "colab": {
          "base_uri": "https://localhost:8080/"
        },
        "outputId": "14dba989-9bc1-4d43-db15-d4b785ce477d"
      },
      "source": [
        "a = 2\n",
        "b = 4\n",
        "print(a + b, a - b, a * b, a / b)"
      ],
      "execution_count": null,
      "outputs": [
        {
          "output_type": "stream",
          "name": "stdout",
          "text": [
            "6 -2 8 0.5\n"
          ]
        }
      ]
    },
    {
      "cell_type": "markdown",
      "metadata": {
        "id": "hUsYdBbPlGgp"
      },
      "source": [
        "assign number $ 2 $ to variable $ c $ and print square-root of $ c $ and $ c $ to the power of $ 2 $ using the `**` operator:"
      ]
    },
    {
      "cell_type": "code",
      "metadata": {
        "id": "jolYQGnVlGgq",
        "colab": {
          "base_uri": "https://localhost:8080/"
        },
        "outputId": "4fe964f0-42a1-417f-9b82-cca8c2abb894"
      },
      "source": [
        "c = 2\n",
        "print(c**0.5, c**2)"
      ],
      "execution_count": null,
      "outputs": [
        {
          "output_type": "stream",
          "name": "stdout",
          "text": [
            "1.4142135623730951 4\n"
          ]
        }
      ]
    },
    {
      "cell_type": "markdown",
      "metadata": {
        "id": "Tb4iMQDSlGgq"
      },
      "source": [
        "create a list $ l $ of $ 1 $, $ 2.0 $, $ 3 $, and $ c $ (lists can contain any type of variable) and print the content of $ l $:"
      ]
    },
    {
      "cell_type": "code",
      "metadata": {
        "scrolled": true,
        "id": "QUw57QjclGgq",
        "colab": {
          "base_uri": "https://localhost:8080/"
        },
        "outputId": "ef513797-0e72-4d33-98b5-f43ccaaa9b92"
      },
      "source": [
        "l = [1, 2.0, 3, \"c\"]\n",
        "print(l)"
      ],
      "execution_count": null,
      "outputs": [
        {
          "output_type": "stream",
          "name": "stdout",
          "text": [
            "[1, 2.0, 3, 'c']\n"
          ]
        }
      ]
    },
    {
      "cell_type": "markdown",
      "metadata": {
        "id": "fupPhH7FlGgq"
      },
      "source": [
        "### Conditions"
      ]
    },
    {
      "cell_type": "markdown",
      "metadata": {
        "id": "Rx8TFRzGlGgr"
      },
      "source": [
        "check if $ x $ is equal to $ 4 $, check if $ x $ is not equal to $ 3 $ using the operators `==` and `!=`:"
      ]
    },
    {
      "cell_type": "code",
      "metadata": {
        "id": "l9etC4smlGgr",
        "colab": {
          "base_uri": "https://localhost:8080/"
        },
        "outputId": "f57f776d-f5a5-4365-8559-8a4d775ed08e"
      },
      "source": [
        "print(x == 4, x != 3)"
      ],
      "execution_count": null,
      "outputs": [
        {
          "output_type": "stream",
          "name": "stdout",
          "text": [
            "True True\n"
          ]
        }
      ]
    },
    {
      "cell_type": "markdown",
      "metadata": {
        "id": "3xr3UaqnlGgr"
      },
      "source": [
        "check if $ x $ is greater than $ 1 $ and less than $ 3 $, check if $ x $ is equal to $ 3 $ or $ 4 $ using the operators `and` and `or`:"
      ]
    },
    {
      "cell_type": "code",
      "metadata": {
        "id": "Usfq8B3jlGgr",
        "colab": {
          "base_uri": "https://localhost:8080/"
        },
        "outputId": "ff5724fc-1d94-4a51-e51b-252c238b5d11"
      },
      "source": [
        "print(x > 1 and x < 3, x == 3 or x == 4)"
      ],
      "execution_count": null,
      "outputs": [
        {
          "output_type": "stream",
          "name": "stdout",
          "text": [
            "False True\n"
          ]
        }
      ]
    },
    {
      "cell_type": "markdown",
      "metadata": {
        "id": "xJX0Syb9lGgr"
      },
      "source": [
        "if the value of variable $ x $ is less than or equal to $ 3 $, print \"x <= 3\", if the value of variable $ x $ is greater than $ 3 $ and less than $ 5 $, print \"3 < x < 5\", else print \"x >= 5\" using the [`if`](https://docs.python.org/3/reference/compound_stmts.html#if), [`elif`](https://docs.python.org/3/reference/compound_stmts.html#elif), and [`else`](https://docs.python.org/3/reference/compound_stmts.html#else) statements (note that in Python the code blocks must be indented - both tabs and spaces are supported):"
      ]
    },
    {
      "cell_type": "code",
      "metadata": {
        "id": "-Td7TzevlGgs",
        "colab": {
          "base_uri": "https://localhost:8080/"
        },
        "outputId": "ee7f7930-9019-4af6-e4a1-355182957ff9"
      },
      "source": [
        "if x <= 3:\n",
        "    print(\"x <= 3\")\n",
        "elif x > 3 and x < 5:\n",
        "    print(\"3 < x < 5\")\n",
        "else:\n",
        "    print(\"x >= 5\")"
      ],
      "execution_count": null,
      "outputs": [
        {
          "output_type": "stream",
          "name": "stdout",
          "text": [
            "3 < x < 5\n"
          ]
        }
      ]
    },
    {
      "cell_type": "markdown",
      "metadata": {
        "id": "XJcm9sa4lGgs"
      },
      "source": [
        "use the `in` operator to check if the list $ l $ contains character $ c $:"
      ]
    },
    {
      "cell_type": "code",
      "metadata": {
        "id": "mMxNl6eWlGgs",
        "colab": {
          "base_uri": "https://localhost:8080/"
        },
        "outputId": "88387cd2-ed19-4ab3-8b49-531ff39bb59f"
      },
      "source": [
        "print(\"c\" in l)"
      ],
      "execution_count": null,
      "outputs": [
        {
          "output_type": "stream",
          "name": "stdout",
          "text": [
            "True\n"
          ]
        }
      ]
    },
    {
      "cell_type": "markdown",
      "metadata": {
        "id": "ZX4lrsT5lGgt"
      },
      "source": [
        "use the `in` and `not` operators to check if the number 4 is not in the list $ l $:"
      ]
    },
    {
      "cell_type": "code",
      "metadata": {
        "id": "MShUFMkPlGgt",
        "colab": {
          "base_uri": "https://localhost:8080/"
        },
        "outputId": "dba25a29-a90d-4793-b7d0-911def3a45fa"
      },
      "source": [
        "print(4 not in l)"
      ],
      "execution_count": null,
      "outputs": [
        {
          "output_type": "stream",
          "name": "stdout",
          "text": [
            "True\n"
          ]
        }
      ]
    },
    {
      "cell_type": "markdown",
      "metadata": {
        "id": "tDOxvlpDlGgt"
      },
      "source": [
        "### Loops"
      ]
    },
    {
      "cell_type": "markdown",
      "metadata": {
        "id": "qkQYBQeSlGgt"
      },
      "source": [
        "print the sequence of numbers from 0 to 2 using the [`range`](https://docs.python.org/3/library/stdtypes.html#range) function and [`for`](https://docs.python.org/3/reference/compound_stmts.html#the-for-statement) loop (note that the [`range`](https://docs.python.org/3/library/stdtypes.html#range) function is zero based):"
      ]
    },
    {
      "cell_type": "code",
      "metadata": {
        "scrolled": false,
        "id": "T2aF5LM9lGgu",
        "colab": {
          "base_uri": "https://localhost:8080/"
        },
        "outputId": "74537994-c921-4444-b7bd-125481eb837d"
      },
      "source": [
        "for i in range(3):\n",
        "    print(i)"
      ],
      "execution_count": null,
      "outputs": [
        {
          "output_type": "stream",
          "name": "stdout",
          "text": [
            "0\n",
            "1\n",
            "2\n"
          ]
        }
      ]
    },
    {
      "cell_type": "markdown",
      "metadata": {
        "id": "1dpKYGqVlGgu"
      },
      "source": [
        "print the sequence of numbers from $ 3 $ to $ 5 $:"
      ]
    },
    {
      "cell_type": "code",
      "metadata": {
        "id": "EmlbFlojlGgu",
        "colab": {
          "base_uri": "https://localhost:8080/"
        },
        "outputId": "d37b7232-192c-4828-a211-a701d69356e6"
      },
      "source": [
        "for i in range(3, 6):\n",
        "    print(i)"
      ],
      "execution_count": null,
      "outputs": [
        {
          "output_type": "stream",
          "name": "stdout",
          "text": [
            "3\n",
            "4\n",
            "5\n"
          ]
        }
      ]
    },
    {
      "cell_type": "markdown",
      "metadata": {
        "id": "i99ob1VzlGgu"
      },
      "source": [
        "iterate over a sequence given by list:"
      ]
    },
    {
      "cell_type": "code",
      "metadata": {
        "id": "h9sQap4HlGgv",
        "colab": {
          "base_uri": "https://localhost:8080/"
        },
        "outputId": "e83f6c16-4d2f-4c2c-fbbc-8b2878f01529"
      },
      "source": [
        "for x in [1,5,4]:\n",
        "    print(x)"
      ],
      "execution_count": null,
      "outputs": [
        {
          "output_type": "stream",
          "name": "stdout",
          "text": [
            "1\n",
            "5\n",
            "4\n"
          ]
        }
      ]
    },
    {
      "cell_type": "markdown",
      "metadata": {
        "id": "pMehv2nalGgv"
      },
      "source": [
        "[`while`](https://docs.python.org/3/reference/compound_stmts.html#while) loops repeat as long as a certain boolean condition is met (note that the [`else`](https://docs.python.org/3/reference/compound_stmts.html#else) clause can be used in loops):"
      ]
    },
    {
      "cell_type": "code",
      "metadata": {
        "id": "lD_0yQaplGgv",
        "colab": {
          "base_uri": "https://localhost:8080/"
        },
        "outputId": "4cef4a0b-e9d7-4573-c975-9861244ae455"
      },
      "source": [
        "k = 10\n",
        "while k > 5:\n",
        "    print(\"k =\", k)\n",
        "    k = k - 1 # or k -= 1\n",
        "else:\n",
        "    print(\"k <= 5\")"
      ],
      "execution_count": null,
      "outputs": [
        {
          "output_type": "stream",
          "name": "stdout",
          "text": [
            "k = 10\n",
            "k = 9\n",
            "k = 8\n",
            "k = 7\n",
            "k = 6\n",
            "k <= 5\n"
          ]
        }
      ]
    },
    {
      "cell_type": "markdown",
      "metadata": {
        "id": "ZKp5DOk5lGgv"
      },
      "source": [
        "### Functions"
      ]
    },
    {
      "cell_type": "markdown",
      "metadata": {
        "id": "2y7pLx5VlGgv"
      },
      "source": [
        "define a function that takes two numbers and returns their product using the `def` keyword:"
      ]
    },
    {
      "cell_type": "code",
      "metadata": {
        "id": "-QHpTQXClGgw",
        "colab": {
          "base_uri": "https://localhost:8080/"
        },
        "outputId": "a7e96f59-aab2-4a37-d87e-c85de1cf3211"
      },
      "source": [
        "def multiply(x, y):\n",
        "    return x*y\n",
        "\n",
        "print(multiply(2, 3))"
      ],
      "execution_count": null,
      "outputs": [
        {
          "output_type": "stream",
          "name": "stdout",
          "text": [
            "6\n"
          ]
        }
      ]
    },
    {
      "cell_type": "markdown",
      "metadata": {
        "id": "NoJOPq72lGgw"
      },
      "source": [
        "use the [`try`](https://docs.python.org/3/reference/compound_stmts.html#try) and [`except`](https://docs.python.org/3/reference/compound_stmts.html#except) statements to catch the error thrown by `multiply` function when multiplying two strings:"
      ]
    },
    {
      "cell_type": "code",
      "metadata": {
        "id": "M-wIOA4_lGgw",
        "colab": {
          "base_uri": "https://localhost:8080/"
        },
        "outputId": "7f1150d1-5e70-42aa-91ff-d12126e81d8b"
      },
      "source": [
        "try:\n",
        "    multiply(\"a\", \"b\")\n",
        "except Exception as e:\n",
        "    print(\"Caught an exception: \" + str(e))"
      ],
      "execution_count": null,
      "outputs": [
        {
          "output_type": "stream",
          "name": "stdout",
          "text": [
            "Caught an exception: can't multiply sequence by non-int of type 'str'\n"
          ]
        }
      ]
    },
    {
      "cell_type": "markdown",
      "metadata": {
        "id": "xww3LNpNlGgx"
      },
      "source": [
        "redefine the `multiply` function using the `lambda` keyword:"
      ]
    },
    {
      "cell_type": "code",
      "metadata": {
        "id": "O9kF0uMblGgx",
        "colab": {
          "base_uri": "https://localhost:8080/"
        },
        "outputId": "b135b608-4385-4bc1-cf07-cef839372fb4"
      },
      "source": [
        "multiply = lambda x, y: x*y\n",
        "\n",
        "multiply(2, 3)"
      ],
      "execution_count": null,
      "outputs": [
        {
          "output_type": "execute_result",
          "data": {
            "text/plain": [
              "6"
            ]
          },
          "metadata": {},
          "execution_count": 18
        }
      ]
    },
    {
      "cell_type": "markdown",
      "metadata": {
        "id": "A-AXLL7nybTC"
      },
      "source": [
        "## Python packages"
      ]
    },
    {
      "cell_type": "markdown",
      "metadata": {
        "id": "2nF78aHgtDVi"
      },
      "source": [
        "### Numpy"
      ]
    },
    {
      "cell_type": "markdown",
      "metadata": {
        "id": "Y5QZm6vklGgx"
      },
      "source": [
        "<img src=\"https://su2.utia.cas.cz/files/labs/23-200/numpy.png\"> <br />\n",
        "\n",
        "import the [`numpy`](https://numpy.org/) module and bind the import to the local variable `np` (to avoid name collisions and shorten module name):"
      ]
    },
    {
      "cell_type": "code",
      "metadata": {
        "id": "rU8rA6ualGgx"
      },
      "source": [
        "import numpy as np"
      ],
      "execution_count": null,
      "outputs": []
    },
    {
      "cell_type": "markdown",
      "metadata": {
        "id": "770FxAWNlGgy"
      },
      "source": [
        "print $ \\sqrt{4} $, $ \\left|-1 \\right| $, $ \\exp{(1)} $, $ \\ln{(e)} $, $ \\sin{(\\pi)}$, and $ \\cos{(\\pi)} $ using the functions from [`numpy`](https://numpy.org/) module:"
      ]
    },
    {
      "cell_type": "code",
      "metadata": {
        "id": "jcV-Rt2-lGgy",
        "colab": {
          "base_uri": "https://localhost:8080/"
        },
        "outputId": "8a2c816c-fd92-43bb-a11c-525d7c6fed6d"
      },
      "source": [
        "print(np.sqrt(4), np.abs(-1), np.exp(1), np.log(np.e), np.sin(np.pi), np.cos(np.pi))"
      ],
      "execution_count": null,
      "outputs": [
        {
          "output_type": "stream",
          "name": "stdout",
          "text": [
            "2.0 1 2.718281828459045 1.0 1.2246467991473532e-16 -1.0\n"
          ]
        }
      ]
    },
    {
      "cell_type": "markdown",
      "metadata": {
        "id": "d5J68iBplGgy"
      },
      "source": [
        "create a vector $ v $ of numbers from $ 1 $ to $ 9 $ using the [`array`](https://numpy.org/doc/stable/reference/generated/numpy.array.html) function:"
      ]
    },
    {
      "cell_type": "code",
      "metadata": {
        "id": "qAy65GWXlGgy",
        "colab": {
          "base_uri": "https://localhost:8080/"
        },
        "outputId": "96b1d860-61a0-4871-fdd1-a0e4f267c251"
      },
      "source": [
        "v = np.array([1, 2, 3, 4, 5, 6, 7, 8, 9])\n",
        "print(v)"
      ],
      "execution_count": null,
      "outputs": [
        {
          "output_type": "stream",
          "name": "stdout",
          "text": [
            "[1 2 3 4 5 6 7 8 9]\n"
          ]
        }
      ]
    },
    {
      "cell_type": "markdown",
      "metadata": {
        "id": "KEUe9XETlGgy"
      },
      "source": [
        "create a $ 3 \\times 3 $ matrix $ \\mathbb{M} $ of numbers from $ 1 $ to $ 9 $ using the [`array`](https://numpy.org/doc/stable/reference/generated/numpy.array.html) function:"
      ]
    },
    {
      "cell_type": "code",
      "metadata": {
        "id": "yOGeAS1elGgz",
        "colab": {
          "base_uri": "https://localhost:8080/"
        },
        "outputId": "73017f3c-3eb9-4d14-aad7-5b104ee2da69"
      },
      "source": [
        "M = np.array([[1, 2, 3], [4, 5, 6], [7, 8, 9]])\n",
        "print(M)"
      ],
      "execution_count": null,
      "outputs": [
        {
          "output_type": "stream",
          "name": "stdout",
          "text": [
            "[[1 2 3]\n",
            " [4 5 6]\n",
            " [7 8 9]]\n"
          ]
        }
      ]
    },
    {
      "cell_type": "markdown",
      "metadata": {
        "id": "-R9vk80ElGgz"
      },
      "source": [
        "print the dimensions of the vector $ v $ and matrix $ \\mathbb{M} $ using the [`shape`](https://numpy.org/doc/stable/reference/generated/numpy.shape.html) function:"
      ]
    },
    {
      "cell_type": "code",
      "metadata": {
        "id": "hB1ayMuPlGgz",
        "colab": {
          "base_uri": "https://localhost:8080/"
        },
        "outputId": "f0ef52a2-ee33-4d4e-d352-73753e9181b0"
      },
      "source": [
        "print(np.shape(v), np.shape(M))"
      ],
      "execution_count": null,
      "outputs": [
        {
          "output_type": "stream",
          "name": "stdout",
          "text": [
            "(9,) (3, 3)\n"
          ]
        }
      ]
    },
    {
      "cell_type": "markdown",
      "metadata": {
        "id": "e7kXU1_ZlGgz"
      },
      "source": [
        "print number of elements of the vector $ v $ and matrix $ \\mathbb{M} $ using the [`size`](https://numpy.org/doc/stable/reference/generated/numpy.ndarray.size.html) function:"
      ]
    },
    {
      "cell_type": "code",
      "metadata": {
        "scrolled": true,
        "id": "cVOxZRIAlGgz",
        "colab": {
          "base_uri": "https://localhost:8080/"
        },
        "outputId": "69235a45-1ecd-49ab-b54f-048b41e7f3ea"
      },
      "source": [
        "print(np.size(v), np.size(M))"
      ],
      "execution_count": null,
      "outputs": [
        {
          "output_type": "stream",
          "name": "stdout",
          "text": [
            "9 9\n"
          ]
        }
      ]
    },
    {
      "cell_type": "markdown",
      "metadata": {
        "id": "9Hh3lhUdlGgz"
      },
      "source": [
        "print the scalar product $ v \\cdot v $ using the [`dot`](https://numpy.org/doc/stable/reference/generated/numpy.dot.html) function (compare with the element-wise multiplication using the operator `*`):"
      ]
    },
    {
      "cell_type": "code",
      "metadata": {
        "id": "dr6ZGrZ5lGg0",
        "colab": {
          "base_uri": "https://localhost:8080/"
        },
        "outputId": "58c97ada-57b9-427d-ecb3-be3eabfae546"
      },
      "source": [
        "print(np.dot(v, v)) # alternatively v @ v\n",
        "print(v * v)"
      ],
      "execution_count": null,
      "outputs": [
        {
          "output_type": "stream",
          "name": "stdout",
          "text": [
            "285\n",
            "[ 1  4  9 16 25 36 49 64 81]\n"
          ]
        }
      ]
    },
    {
      "cell_type": "markdown",
      "metadata": {
        "id": "YJZ28mO1lGg0"
      },
      "source": [
        "print the matrix product $ \\mathbb{M} \\cdot \\mathbb{M} $ using the [`dot`](https://numpy.org/doc/stable/reference/generated/numpy.dot.html) function (compare with the element-wise multiplication using the operator `*`):"
      ]
    },
    {
      "cell_type": "code",
      "metadata": {
        "scrolled": false,
        "id": "DAzcSabHlGg0",
        "colab": {
          "base_uri": "https://localhost:8080/"
        },
        "outputId": "47477644-2b90-41f1-ddca-9060ea74c99e"
      },
      "source": [
        "print(np.dot(M, M))  # alternatively M @ M\n",
        "print(M * M)"
      ],
      "execution_count": null,
      "outputs": [
        {
          "output_type": "stream",
          "name": "stdout",
          "text": [
            "[[ 30  36  42]\n",
            " [ 66  81  96]\n",
            " [102 126 150]]\n",
            "[[ 1  4  9]\n",
            " [16 25 36]\n",
            " [49 64 81]]\n"
          ]
        }
      ]
    },
    {
      "cell_type": "markdown",
      "metadata": {
        "id": "QVazuARnlGg0"
      },
      "source": [
        "print the first, last, and the sixth element of vector $ v $:"
      ]
    },
    {
      "cell_type": "code",
      "metadata": {
        "scrolled": true,
        "id": "35nTCbvblGg0",
        "colab": {
          "base_uri": "https://localhost:8080/"
        },
        "outputId": "5ec64d17-3ae2-4c7f-d301-903a7bdf4b08"
      },
      "source": [
        "print(v[0], v[-1], v[5])"
      ],
      "execution_count": null,
      "outputs": [
        {
          "output_type": "stream",
          "name": "stdout",
          "text": [
            "1 9 6\n"
          ]
        }
      ]
    },
    {
      "cell_type": "markdown",
      "metadata": {
        "id": "PsnrdTX-lGg1"
      },
      "source": [
        "print the first five, last four, and each second element of vector $ v $ using the numpy array [indexing](https://numpy.org/doc/stable/reference/arrays.indexing.html):"
      ]
    },
    {
      "cell_type": "code",
      "metadata": {
        "id": "LpCYe4MklGg1",
        "colab": {
          "base_uri": "https://localhost:8080/"
        },
        "outputId": "22596f31-f4ea-4cdd-f066-bd8b93e4a1b2"
      },
      "source": [
        "print(v[:5], v[5:], v[::2])"
      ],
      "execution_count": null,
      "outputs": [
        {
          "output_type": "stream",
          "name": "stdout",
          "text": [
            "[1 2 3 4 5] [6 7 8 9] [1 3 5 7 9]\n"
          ]
        }
      ]
    },
    {
      "cell_type": "markdown",
      "metadata": {
        "id": "z97gIXqTlGg1"
      },
      "source": [
        "print the $ \\mathbb{M}_{0, 0} $ element, the first row, and the second column of matrix $ \\mathbb{M} $:"
      ]
    },
    {
      "cell_type": "code",
      "metadata": {
        "scrolled": true,
        "id": "RPTWSAVtlGg1",
        "colab": {
          "base_uri": "https://localhost:8080/"
        },
        "outputId": "f2936952-05cd-4a1e-9000-e787f05169e6"
      },
      "source": [
        "print(M[0, 0], M[0, :], M[:, 1])"
      ],
      "execution_count": null,
      "outputs": [
        {
          "output_type": "stream",
          "name": "stdout",
          "text": [
            "1 [1 2 3] [2 5 8]\n"
          ]
        }
      ]
    },
    {
      "cell_type": "markdown",
      "metadata": {
        "id": "sKiLHrDxlGg1"
      },
      "source": [
        "create evenly spaced vector $ x $ of size $ 5 $ from $ -2 $ to $ 2 $ using the [`linspace`](https://numpy.org/doc/stable/reference/generated/numpy.linspace.html) function"
      ]
    },
    {
      "cell_type": "code",
      "metadata": {
        "id": "ptJ94CQglGg1",
        "colab": {
          "base_uri": "https://localhost:8080/"
        },
        "outputId": "b0bebc30-fd4a-4a91-b48b-f830ee51f983"
      },
      "source": [
        "x = np.linspace(-2, 2, 5)\n",
        "print(x)"
      ],
      "execution_count": null,
      "outputs": [
        {
          "output_type": "stream",
          "name": "stdout",
          "text": [
            "[-2. -1.  0.  1.  2.]\n"
          ]
        }
      ]
    },
    {
      "cell_type": "markdown",
      "metadata": {
        "id": "49qAiMT5lGg2"
      },
      "source": [
        "create evenly spaced vector $ x $ of size $ 5 $ from $ -2 $ to $ 2 $ using the [`linspace`](https://numpy.org/doc/stable/reference/generated/numpy.linspace.html) function and print the step size:"
      ]
    },
    {
      "cell_type": "code",
      "metadata": {
        "id": "u13SEYaulGg2",
        "colab": {
          "base_uri": "https://localhost:8080/"
        },
        "outputId": "be2b9394-3279-45e7-bd47-fdc7ab72e5dc"
      },
      "source": [
        "x, h = np.linspace(-2, 2, 5, retstep=True)\n",
        "print(h)"
      ],
      "execution_count": null,
      "outputs": [
        {
          "output_type": "stream",
          "name": "stdout",
          "text": [
            "1.0\n"
          ]
        }
      ]
    },
    {
      "cell_type": "markdown",
      "metadata": {
        "id": "9evRuF6llGg2"
      },
      "source": [
        "create evenly spaced vector $ x $ from $ -2 $ to $ 2 $ with a step of size $ 1 $ using the [`arange`](https://numpy.org/doc/stable/reference/generated/numpy.arange.html) function:"
      ]
    },
    {
      "cell_type": "code",
      "metadata": {
        "id": "kTq6DovIlGg2",
        "colab": {
          "base_uri": "https://localhost:8080/"
        },
        "outputId": "8e8df5eb-9078-4e9e-daab-2fddd54f1ef0"
      },
      "source": [
        "x = np.arange(-2, 2, 1.0)\n",
        "print(x)"
      ],
      "execution_count": null,
      "outputs": [
        {
          "output_type": "stream",
          "name": "stdout",
          "text": [
            "[-2. -1.  0.  1.]\n"
          ]
        }
      ]
    },
    {
      "cell_type": "markdown",
      "metadata": {
        "id": "Sat4qJJNlGg2"
      },
      "source": [
        "create a matrix from the vector $ x $ using the [`meshgrid`](https://numpy.org/doc/stable/reference/generated/numpy.meshgrid.html) function:"
      ]
    },
    {
      "cell_type": "code",
      "metadata": {
        "id": "xCREOGfhlGg3",
        "colab": {
          "base_uri": "https://localhost:8080/"
        },
        "outputId": "06bebb3a-d9c7-4098-87ff-3f96348e517b"
      },
      "source": [
        "xx, yy = np.meshgrid(x, x)\n",
        "print(xx)\n",
        "print(yy)"
      ],
      "execution_count": null,
      "outputs": [
        {
          "output_type": "stream",
          "name": "stdout",
          "text": [
            "[[-2. -1.  0.  1.]\n",
            " [-2. -1.  0.  1.]\n",
            " [-2. -1.  0.  1.]\n",
            " [-2. -1.  0.  1.]]\n",
            "[[-2. -2. -2. -2.]\n",
            " [-1. -1. -1. -1.]\n",
            " [ 0.  0.  0.  0.]\n",
            " [ 1.  1.  1.  1.]]\n"
          ]
        }
      ]
    },
    {
      "cell_type": "markdown",
      "metadata": {
        "id": "dycP0vpolGg3"
      },
      "source": [
        "create a vector of zeros of size $ 3 $ using the [`zeros`](https://numpy.org/doc/stable/reference/generated/numpy.zeros.html) function:"
      ]
    },
    {
      "cell_type": "code",
      "metadata": {
        "scrolled": true,
        "id": "XfSiNRsJlGg3",
        "colab": {
          "base_uri": "https://localhost:8080/"
        },
        "outputId": "6be45b68-b1e7-467a-a494-f233cb205545"
      },
      "source": [
        "z = np.zeros(3)\n",
        "print(z)"
      ],
      "execution_count": null,
      "outputs": [
        {
          "output_type": "stream",
          "name": "stdout",
          "text": [
            "[0. 0. 0.]\n"
          ]
        }
      ]
    },
    {
      "cell_type": "markdown",
      "metadata": {
        "id": "J_4lfmunlGg3"
      },
      "source": [
        "create a $ 3 \\times 3$ matrix of zeros using the [`zeros`](https://numpy.org/doc/stable/reference/generated/numpy.zeros.html) function:"
      ]
    },
    {
      "cell_type": "code",
      "metadata": {
        "scrolled": true,
        "id": "vdWDsdrqlGg3",
        "colab": {
          "base_uri": "https://localhost:8080/"
        },
        "outputId": "3bfa0f2e-b7ed-42d8-f0e4-920daaf0cbeb"
      },
      "source": [
        "Z = np.zeros((3, 3))\n",
        "print(Z)"
      ],
      "execution_count": null,
      "outputs": [
        {
          "output_type": "stream",
          "name": "stdout",
          "text": [
            "[[0. 0. 0.]\n",
            " [0. 0. 0.]\n",
            " [0. 0. 0.]]\n"
          ]
        }
      ]
    },
    {
      "cell_type": "markdown",
      "metadata": {
        "id": "291Kb8Z0lGg3"
      },
      "source": [
        "create a $ 3 \\times 3 $ matrix with ones on the diagonal and zeros elsewhere using the [`eye`](https://numpy.org/doc/stable/reference/generated/numpy.eye.html) function:"
      ]
    },
    {
      "cell_type": "code",
      "metadata": {
        "scrolled": true,
        "id": "JRGNX6OzlGg4",
        "colab": {
          "base_uri": "https://localhost:8080/"
        },
        "outputId": "c91e18fd-a327-4cf4-dccd-56a0739f291d"
      },
      "source": [
        "D = np.eye(3)\n",
        "print(D)"
      ],
      "execution_count": null,
      "outputs": [
        {
          "output_type": "stream",
          "name": "stdout",
          "text": [
            "[[1. 0. 0.]\n",
            " [0. 1. 0.]\n",
            " [0. 0. 1.]]\n"
          ]
        }
      ]
    },
    {
      "cell_type": "markdown",
      "metadata": {
        "id": "JIyAAn3IlGg4"
      },
      "source": [
        "create a $ 3 \\times 3 $ matrix filled with ones using the [`ones`](https://numpy.org/doc/stable/reference/generated/numpy.ones.html) function:"
      ]
    },
    {
      "cell_type": "code",
      "metadata": {
        "scrolled": true,
        "id": "vDCPNRFYlGg4",
        "colab": {
          "base_uri": "https://localhost:8080/"
        },
        "outputId": "728537b3-c6bd-4602-ae10-00c869055bb5"
      },
      "source": [
        "O = np.ones((3, 3))\n",
        "print(O)"
      ],
      "execution_count": null,
      "outputs": [
        {
          "output_type": "stream",
          "name": "stdout",
          "text": [
            "[[1. 1. 1.]\n",
            " [1. 1. 1.]\n",
            " [1. 1. 1.]]\n"
          ]
        }
      ]
    },
    {
      "cell_type": "markdown",
      "metadata": {
        "id": "s0KqBfbGlGg4"
      },
      "source": [
        "create a $ 3 \\times 3 $ matrix filled with random floating point numbers between $ 0 $ and $ 1 $ using the [`rand`](https://numpy.org/doc/stable/reference/random/generated/numpy.random.rand.html) function:"
      ]
    },
    {
      "cell_type": "code",
      "metadata": {
        "id": "Wx1xi9NblGg4",
        "colab": {
          "base_uri": "https://localhost:8080/"
        },
        "outputId": "4dcdb149-1115-40bb-bc83-84018be6d22b"
      },
      "source": [
        "R = np.random.rand(3, 3)\n",
        "print(R)"
      ],
      "execution_count": null,
      "outputs": [
        {
          "output_type": "stream",
          "name": "stdout",
          "text": [
            "[[0.2419757  0.95647592 0.52718929]\n",
            " [0.48350662 0.91449328 0.75818904]\n",
            " [0.50608811 0.04231064 0.36641252]]\n"
          ]
        }
      ]
    },
    {
      "cell_type": "markdown",
      "metadata": {
        "id": "DKpWxX9dlGg5"
      },
      "source": [
        "create a $ 3 \\times 3 $ matrix with the vector $ (1, 2, 3) $ on the diagonal using the [`diag`](https://numpy.org/doc/stable/reference/generated/numpy.diag.html) function:"
      ]
    },
    {
      "cell_type": "code",
      "metadata": {
        "scrolled": false,
        "id": "gnxXwVVTlGg5",
        "colab": {
          "base_uri": "https://localhost:8080/"
        },
        "outputId": "7c47e93e-9d51-4354-a52c-6e8fb49965b1"
      },
      "source": [
        "print(np.diag([1,2,3], 0))"
      ],
      "execution_count": null,
      "outputs": [
        {
          "output_type": "stream",
          "name": "stdout",
          "text": [
            "[[1 0 0]\n",
            " [0 2 0]\n",
            " [0 0 3]]\n"
          ]
        }
      ]
    },
    {
      "cell_type": "markdown",
      "metadata": {
        "id": "-D39uiZulGg5"
      },
      "source": [
        "extract the main diagonal, and the diagonals above and below the main diagonal from matrix $ \\mathbb{M} $ using the [`diag`](https://numpy.org/doc/stable/reference/generated/numpy.diag.html) function:"
      ]
    },
    {
      "cell_type": "code",
      "metadata": {
        "id": "SAUG6DgZlGg5",
        "colab": {
          "base_uri": "https://localhost:8080/"
        },
        "outputId": "ac28c1aa-c4e1-45e0-e80c-386cca88e7e6"
      },
      "source": [
        "print(np.diag(M, 0), np.diag(M, 1), np.diag(M, -1))"
      ],
      "execution_count": null,
      "outputs": [
        {
          "output_type": "stream",
          "name": "stdout",
          "text": [
            "[1 5 9] [2 6] [4 8]\n"
          ]
        }
      ]
    },
    {
      "cell_type": "markdown",
      "metadata": {
        "id": "l8FN6ooMlGg5"
      },
      "source": [
        "set all elements of matrix $ \\mathbb{M} $ below and above diagonal to zero using the [`triu`](https://numpy.org/doc/stable/reference/generated/numpy.triu.html) and [`tril`](https://numpy.org/doc/stable/reference/generated/numpy.tril.html) functions:"
      ]
    },
    {
      "cell_type": "code",
      "metadata": {
        "id": "dq-mKo1flGg5",
        "colab": {
          "base_uri": "https://localhost:8080/"
        },
        "outputId": "7cceeab2-c3e4-48cc-c361-3da4467e1651"
      },
      "source": [
        "print(np.triu(M))\n",
        "print(np.tril(M))"
      ],
      "execution_count": null,
      "outputs": [
        {
          "output_type": "stream",
          "name": "stdout",
          "text": [
            "[[1 2 3]\n",
            " [0 5 6]\n",
            " [0 0 9]]\n",
            "[[1 0 0]\n",
            " [4 5 0]\n",
            " [7 8 9]]\n"
          ]
        }
      ]
    },
    {
      "cell_type": "markdown",
      "metadata": {
        "id": "1DK1K5USlGg6"
      },
      "source": [
        "print minimum and maximum elements, index of minimum and maximum elements, and the sum of vector $ v $ using the [`min`](https://numpy.org/doc/stable/reference/generated/numpy.ndarray.min.html), [`max`](https://numpy.org/doc/stable/reference/generated/numpy.ndarray.max.html), [`argmin`](https://numpy.org/doc/stable/reference/generated/numpy.argmin.html), [`argmax`](https://numpy.org/doc/stable/reference/generated/numpy.argmax.html), and [`sum`](https://numpy.org/doc/stable/reference/generated/numpy.sum.html) functions:"
      ]
    },
    {
      "cell_type": "code",
      "metadata": {
        "id": "4NNt1RkclGg6",
        "colab": {
          "base_uri": "https://localhost:8080/"
        },
        "outputId": "9bbdeda1-b8ea-4cf0-92fe-87958a690800"
      },
      "source": [
        "print(np.min(v), np.max(v), np.argmin(v), np.argmax(v), np.sum(v))"
      ],
      "execution_count": null,
      "outputs": [
        {
          "output_type": "stream",
          "name": "stdout",
          "text": [
            "1 9 0 8 45\n"
          ]
        }
      ]
    },
    {
      "cell_type": "markdown",
      "metadata": {
        "id": "Zi-Ea5S9lGg6"
      },
      "source": [
        "print even numbers of vector $ v $ and their indices using the [`where`](https://numpy.org/doc/stable/reference/generated/numpy.where.html), and [`mod`](https://numpy.org/doc/stable/reference/generated/numpy.mod.html) functions:"
      ]
    },
    {
      "cell_type": "code",
      "metadata": {
        "scrolled": false,
        "id": "FTBBXIUtlGg6",
        "colab": {
          "base_uri": "https://localhost:8080/"
        },
        "outputId": "21422533-196b-4ec2-c5d0-8dad9f770568"
      },
      "source": [
        "even = np.where(np.mod(v, 2) == 0)\n",
        "print(v[even])"
      ],
      "execution_count": null,
      "outputs": [
        {
          "output_type": "stream",
          "name": "stdout",
          "text": [
            "[2 4 6 8]\n"
          ]
        }
      ]
    },
    {
      "cell_type": "markdown",
      "metadata": {
        "id": "IhwdXa9jlGg7"
      },
      "source": [
        "assign vector $ v $ to vector $ v_2 $ using the `=` operator (note that if you modify one in place, you'll see the change through the other one too):"
      ]
    },
    {
      "cell_type": "code",
      "metadata": {
        "scrolled": true,
        "id": "PpVCeHE7lGg7",
        "colab": {
          "base_uri": "https://localhost:8080/"
        },
        "outputId": "dcb40e75-934d-4fd2-ea00-0cc1e31a2553"
      },
      "source": [
        "v2 = v\n",
        "v2[0] = -1\n",
        "print(v)\n",
        "print(v2)"
      ],
      "execution_count": null,
      "outputs": [
        {
          "output_type": "stream",
          "name": "stdout",
          "text": [
            "[-1  2  3  4  5  6  7  8  9]\n",
            "[-1  2  3  4  5  6  7  8  9]\n"
          ]
        }
      ]
    },
    {
      "cell_type": "markdown",
      "metadata": {
        "id": "ofDeyf2zlGg7"
      },
      "source": [
        "copy the vector $ v $ to vector $ v_3 $ using the [`copy`](https://numpy.org/doc/stable/reference/generated/numpy.copy.html) function:"
      ]
    },
    {
      "cell_type": "code",
      "metadata": {
        "id": "vqe7fNbHlGg7",
        "colab": {
          "base_uri": "https://localhost:8080/"
        },
        "outputId": "2d8f8dec-a80d-499f-c297-b20f1b65b76b"
      },
      "source": [
        "v3 = np.copy(v)\n",
        "v3[0] = -2\n",
        "print(v)\n",
        "print(v3)"
      ],
      "execution_count": null,
      "outputs": [
        {
          "output_type": "stream",
          "name": "stdout",
          "text": [
            "[-1  2  3  4  5  6  7  8  9]\n",
            "[-2  2  3  4  5  6  7  8  9]\n"
          ]
        }
      ]
    },
    {
      "cell_type": "markdown",
      "metadata": {
        "id": "7yODC90WlGg7"
      },
      "source": [
        "create vector $ v_4 $ by appending $ 0 $ to the end of vector $ v $ using the [`append`](https://numpy.org/doc/stable/reference/generated/numpy.append.html) function:"
      ]
    },
    {
      "cell_type": "code",
      "metadata": {
        "id": "j1f9Ke0slGg8",
        "colab": {
          "base_uri": "https://localhost:8080/"
        },
        "outputId": "31e319f1-ca35-4ee2-a72f-fcb4b66b7e09"
      },
      "source": [
        "v4 = np.append(v, 0)\n",
        "print(v4)"
      ],
      "execution_count": null,
      "outputs": [
        {
          "output_type": "stream",
          "name": "stdout",
          "text": [
            "[-1  2  3  4  5  6  7  8  9  0]\n"
          ]
        }
      ]
    },
    {
      "cell_type": "markdown",
      "metadata": {
        "id": "Ss4mGoGKlGg8"
      },
      "source": [
        "create vector $ v_5 $ by inserting $ -5 $ as a sixth element to vector $ v $ using the [`insert`](https://numpy.org/doc/stable/reference/generated/numpy.insert.html) function:"
      ]
    },
    {
      "cell_type": "code",
      "metadata": {
        "scrolled": false,
        "id": "Uti2pbF0lGg8",
        "colab": {
          "base_uri": "https://localhost:8080/"
        },
        "outputId": "040e4609-297c-483a-9571-3eca9226cf50"
      },
      "source": [
        "v5 = np.insert(v, 5, -5)\n",
        "print(v5)"
      ],
      "execution_count": null,
      "outputs": [
        {
          "output_type": "stream",
          "name": "stdout",
          "text": [
            "[-1  2  3  4  5 -5  6  7  8  9]\n"
          ]
        }
      ]
    },
    {
      "cell_type": "markdown",
      "metadata": {
        "id": "7QhfVVjAlGg8"
      },
      "source": [
        "create vector $ v_6 $ by concatenating vectors $ v_4 $ and $ v_5 $ using the [`concatenate`](https://numpy.org/doc/stable/reference/generated/numpy.concatenate.html) function:"
      ]
    },
    {
      "cell_type": "code",
      "metadata": {
        "id": "SemlWfOplGg8",
        "colab": {
          "base_uri": "https://localhost:8080/"
        },
        "outputId": "e236bb1a-e89f-423b-b2dd-10a6349d6ddf"
      },
      "source": [
        "v6 = np.concatenate((v4, v5))\n",
        "print(v6)"
      ],
      "execution_count": null,
      "outputs": [
        {
          "output_type": "stream",
          "name": "stdout",
          "text": [
            "[-1  2  3  4  5  6  7  8  9  0 -1  2  3  4  5 -5  6  7  8  9]\n"
          ]
        }
      ]
    },
    {
      "cell_type": "markdown",
      "metadata": {
        "id": "XcIfcSo4lGg9"
      },
      "source": [
        "create polynomial $ p = x^3 + 2x^2 + 3x + 2 $ using the [`poly1d`](https://numpy.org/doc/stable/reference/generated/numpy.poly1d.html) function:"
      ]
    },
    {
      "cell_type": "code",
      "metadata": {
        "scrolled": true,
        "id": "PG45AX6VlGg9",
        "colab": {
          "base_uri": "https://localhost:8080/"
        },
        "outputId": "0c9db0d9-0d24-49a5-f756-e43bd6f1660b"
      },
      "source": [
        "p = np.poly1d([1, 2, 3, 2])\n",
        "print(p)"
      ],
      "execution_count": null,
      "outputs": [
        {
          "output_type": "stream",
          "name": "stdout",
          "text": [
            "   3     2\n",
            "1 x + 2 x + 3 x + 2\n"
          ]
        }
      ]
    },
    {
      "cell_type": "markdown",
      "metadata": {
        "id": "sOj38Y9TlGg9"
      },
      "source": [
        "Further reading: https://numpy.org/doc/stable/reference/"
      ]
    },
    {
      "cell_type": "markdown",
      "metadata": {
        "id": "HZiWgUu2lGg9"
      },
      "source": [
        "### Scipy"
      ]
    },
    {
      "cell_type": "markdown",
      "metadata": {
        "id": "7N4mPtFPlGg9"
      },
      "source": [
        "<img src=\"https://su2.utia.cas.cz/files/labs/23-200/scipy.png\"> <br />\n",
        "\n",
        "import scientific constants from the [`scipy`](https://www.scipy.org/) module and print $ \\pi $, golden_ratio, and speed of light in vacuum:"
      ]
    },
    {
      "cell_type": "code",
      "metadata": {
        "id": "Fg3g4unHlGg9",
        "colab": {
          "base_uri": "https://localhost:8080/"
        },
        "outputId": "b647b609-ea79-4317-eaf6-431f22ceb1ad"
      },
      "source": [
        "from scipy.constants import pi, golden_ratio, c\n",
        "print(pi, golden_ratio, c)"
      ],
      "execution_count": null,
      "outputs": [
        {
          "output_type": "stream",
          "name": "stdout",
          "text": [
            "3.141592653589793 1.618033988749895 299792458.0\n"
          ]
        }
      ]
    },
    {
      "cell_type": "markdown",
      "metadata": {
        "id": "EZ3qjH7MlGg-"
      },
      "source": [
        "import various submodules from [`scipy`](https://www.scipy.org/) that will be useful throughout the course:"
      ]
    },
    {
      "cell_type": "code",
      "metadata": {
        "id": "RIKsrCp7lGg-"
      },
      "source": [
        "import scipy.linalg # linear algebra\n",
        "import scipy.interpolate # interpolation and curve fitting\n",
        "import scipy.optimize # minima, maxima, root finding\n",
        "import scipy.integrate # numerical integration and solving of ODEs"
      ],
      "execution_count": null,
      "outputs": []
    },
    {
      "cell_type": "markdown",
      "metadata": {
        "id": "MOroMTfZlGg-"
      },
      "source": [
        "Further reading: https://docs.scipy.org/doc/scipy/reference/"
      ]
    },
    {
      "cell_type": "markdown",
      "metadata": {
        "id": "Cz9AKYehlGg-"
      },
      "source": [
        "### Matplotlib"
      ]
    },
    {
      "cell_type": "markdown",
      "metadata": {
        "id": "JaBaUQg3lGg-"
      },
      "source": [
        "<img src=\"https://su2.utia.cas.cz/files/labs/23-200/matplotlib.png\"> <br />\n",
        "\n",
        "\n",
        "import [`pyplot`](https://matplotlib.org/stable/api/pyplot_summary.html#module-matplotlib.pyplot) submodule from [`matplotlib`](https://matplotlib.org/) and bind the import to the local variable `plt`:"
      ]
    },
    {
      "cell_type": "code",
      "metadata": {
        "id": "Lg1OkCxmlGg-"
      },
      "source": [
        "import matplotlib.pyplot as plt"
      ],
      "execution_count": null,
      "outputs": []
    },
    {
      "cell_type": "markdown",
      "metadata": {
        "id": "nILyiZWtlGg_"
      },
      "source": [
        "plot $ \\sin{(x)} $ and $ \\cos{(x)} $ functions for $ x \\in [0, 10] $ using the [`plot`](https://matplotlib.org/stable/api/_as_gen/matplotlib.pyplot.plot.html) function:"
      ]
    },
    {
      "cell_type": "code",
      "metadata": {
        "id": "PUNWdqmdlGg_",
        "colab": {
          "base_uri": "https://localhost:8080/",
          "height": 430
        },
        "outputId": "1640e9d0-1675-4471-9375-33e2c4dd456f"
      },
      "source": [
        "x = np.linspace(0, 10, 100)\n",
        "\n",
        "fig, ax = plt.subplots()\n",
        "ax.plot(x, np.sin(x))\n",
        "ax.plot(x, np.cos(x))\n",
        "plt.show()"
      ],
      "execution_count": null,
      "outputs": [
        {
          "output_type": "display_data",
          "data": {
            "text/plain": [
              "<Figure size 640x480 with 1 Axes>"
            ],
            "image/png": "[encoded data removed]"
          },
          "metadata": {}
        }
      ]
    },
    {
      "cell_type": "markdown",
      "metadata": {
        "id": "v8DnDItmlGhA"
      },
      "source": [
        "plot the functions $ y(x) = x $ and $ y(x) = x^2 $ for $ x \\in [0, 10] $ and show the plots next to each other:"
      ]
    },
    {
      "cell_type": "code",
      "metadata": {
        "scrolled": true,
        "id": "e5IJ6PzzlGhA",
        "colab": {
          "base_uri": "https://localhost:8080/",
          "height": 487
        },
        "outputId": "8bef3dbf-f4dd-493d-f4e1-bcf46e4f5534"
      },
      "source": [
        "fig, ax = plt.subplots(nrows=1, ncols=2)\n",
        "\n",
        "ax[0].plot(x, x, color=\"green\")\n",
        "ax[0].set_xlabel(\"x\")\n",
        "ax[0].set_ylabel(\"y\")\n",
        "\n",
        "ax[1].plot(x, x**2, color=\"blue\")\n",
        "ax[1].set_xlabel(\"x\")\n",
        "ax[1].set_ylabel(\"y\")\n",
        "\n",
        "fig.tight_layout()\n",
        "plt.show()"
      ],
      "execution_count": null,
      "outputs": [
        {
          "output_type": "display_data",
          "data": {
            "text/plain": [
              "<Figure size 640x480 with 2 Axes>"
            ],
            "image/png": "[encoded data removed]"
          },
          "metadata": {}
        }
      ]
    },
    {
      "cell_type": "markdown",
      "metadata": {
        "id": "LcIRIas6lGhB"
      },
      "source": [
        "save the figure above as \"figure.png\":"
      ]
    },
    {
      "cell_type": "code",
      "metadata": {
        "id": "KbINFANSlGhB"
      },
      "source": [
        "fig.savefig(\"figure.png\", dpi=100)"
      ],
      "execution_count": null,
      "outputs": []
    },
    {
      "cell_type": "markdown",
      "metadata": {
        "id": "xm77m7SnlGhB"
      },
      "source": [
        "create a 2D plot of Gaussian function, $ f(x, y) = \\exp{(-ax^2 - by^2)} $, for $ x, y \\in [-2, 2] $ using the [`pcolormesh`](https://matplotlib.org/stable/api/_as_gen/matplotlib.pyplot.pcolormesh.html) function:"
      ]
    },
    {
      "cell_type": "code",
      "metadata": {
        "scrolled": true,
        "id": "tZRMgvoolGhB",
        "colab": {
          "base_uri": "https://localhost:8080/",
          "height": 472
        },
        "outputId": "5b79057c-61d0-423d-ddd2-6e74eaa0d9cf"
      },
      "source": [
        "a = 3.3 #@param {type:\"slider\", min:0, max:5, step:0.1}\n",
        "b = 0.3 #@param {type:\"slider\", min:0, max:5, step:0.1}\n",
        "\n",
        "x = np.linspace(-2, 2, 100)\n",
        "y = np.linspace(-2, 2, 100)\n",
        "xx, yy = np.meshgrid(x, y)\n",
        "function = np.exp(-a*xx**2 - b*yy**2)\n",
        "\n",
        "fig, ax = plt.subplots()\n",
        "img = ax.pcolormesh(x, y, function, cmap=\"jet\", shading=\"gouraud\")\n",
        "ax.set_title(\"2D plot of Gaussian function\")\n",
        "ax.set_xlabel(\"x\")\n",
        "ax.set_ylabel(\"y\")\n",
        "\n",
        "cbar = plt.colorbar(img)\n",
        "cbar.set_label(label=r\"$ exp(-ax^2 - by^2) $\", fontsize=12)\n",
        "\n",
        "plt.show()"
      ],
      "execution_count": null,
      "outputs": [
        {
          "output_type": "display_data",
          "data": {
            "text/plain": [
              "<Figure size 640x480 with 2 Axes>"
            ],
            "image/png": "[encoded data removed]"
          },
          "metadata": {}
        }
      ]
    },
    {
      "cell_type": "markdown",
      "metadata": {
        "collapsed": true,
        "id": "UcivmkNylGhC"
      },
      "source": [
        "Further reading: https://matplotlib.org/"
      ]
    },
    {
      "cell_type": "markdown",
      "metadata": {
        "id": "Lj3F_lOp8NG_"
      },
      "source": [
        "### Pandas"
      ]
    },
    {
      "cell_type": "markdown",
      "metadata": {
        "id": "OTgP50S5B0HZ"
      },
      "source": [
        "<img src=\"https://su2.utia.cas.cz/files/labs/23-200/pandas2.png\">"
      ]
    },
    {
      "cell_type": "code",
      "metadata": {
        "id": "seEz5O-d8MdR",
        "colab": {
          "base_uri": "https://localhost:8080/",
          "height": 175
        },
        "outputId": "8eb2e950-cd2d-499c-be8c-12e83082b7bb"
      },
      "source": [
        "import pandas as pd\n",
        "data = {\n",
        "    'apples': [3, 2, 0, 1],\n",
        "    'oranges': [0, 3, 7, 2]\n",
        "}\n",
        "purchases = pd.DataFrame(data)\n",
        "purchases = pd.DataFrame(data, index=['June', 'Robert', 'Lily', 'David'])\n",
        "\n",
        "purchases"
      ],
      "execution_count": null,
      "outputs": [
        {
          "output_type": "execute_result",
          "data": {
            "text/plain": [
              "        apples  oranges\n",
              "June         3        0\n",
              "Robert       2        3\n",
              "Lily         0        7\n",
              "David        1        2"
            ],
            "text/html": [
              "\n",
              "  <div id=\"df-095fbae7-6fb4-467e-9b15-d9aae7bc0138\" class=\"colab-df-container\">\n",
              "    <div>\n",
              "<style scoped>\n",
              "    .dataframe tbody tr th:only-of-type {\n",
              "        vertical-align: middle;\n",
              "    }\n",
              "\n",
              "    .dataframe tbody tr th {\n",
              "        vertical-align: top;\n",
              "    }\n",
              "\n",
              "    .dataframe thead th {\n",
              "        text-align: right;\n",
              "    }\n",
              "</style>\n",
              "<table border=\"1\" class=\"dataframe\">\n",
              "  <thead>\n",
              "    <tr style=\"text-align: right;\">\n",
              "      <th></th>\n",
              "      <th>apples</th>\n",
              "      <th>oranges</th>\n",
              "    </tr>\n",
              "  </thead>\n",
              "  <tbody>\n",
              "    <tr>\n",
              "      <th>June</th>\n",
              "      <td>3</td>\n",
              "      <td>0</td>\n",
              "    </tr>\n",
              "    <tr>\n",
              "      <th>Robert</th>\n",
              "      <td>2</td>\n",
              "      <td>3</td>\n",
              "    </tr>\n",
              "    <tr>\n",
              "      <th>Lily</th>\n",
              "      <td>0</td>\n",
              "      <td>7</td>\n",
              "    </tr>\n",
              "    <tr>\n",
              "      <th>David</th>\n",
              "      <td>1</td>\n",
              "      <td>2</td>\n",
              "    </tr>\n",
              "  </tbody>\n",
              "</table>\n",
              "</div>\n",
              "    <div class=\"colab-df-buttons\">\n",
              "\n",
              "  <div class=\"colab-df-container\">\n",
              "    <button class=\"colab-df-convert\" onclick=\"convertToInteractive('df-095fbae7-6fb4-467e-9b15-d9aae7bc0138')\"\n",
              "            title=\"Convert this dataframe to an interactive table.\"\n",
              "            style=\"display:none;\">\n",
              "\n",
              "  <svg xmlns=\"http://www.w3.org/2000/svg\" height=\"24px\" viewBox=\"0 -960 960 960\">\n",
              "    <path d=\"M120-120v-720h720v720H120Zm60-500h600v-160H180v160Zm220 220h160v-160H400v160Zm0 220h160v-160H400v160ZM180-400h160v-160H180v160Zm440 0h160v-160H620v160ZM180-180h160v-160H180v160Zm440 0h160v-160H620v160Z\"/>\n",
              "  </svg>\n",
              "    </button>\n",
              "\n",
              "  <style>\n",
              "    .colab-df-container {\n",
              "      display:flex;\n",
              "      gap: 12px;\n",
              "    }\n",
              "\n",
              "    .colab-df-convert {\n",
              "      background-color: #E8F0FE;\n",
              "      border: none;\n",
              "      border-radius: 50%;\n",
              "      cursor: pointer;\n",
              "      display: none;\n",
              "      fill: #1967D2;\n",
              "      height: 32px;\n",
              "      padding: 0 0 0 0;\n",
              "      width: 32px;\n",
              "    }\n",
              "\n",
              "    .colab-df-convert:hover {\n",
              "      background-color: #E2EBFA;\n",
              "      box-shadow: 0px 1px 2px rgba(60, 64, 67, 0.3), 0px 1px 3px 1px rgba(60, 64, 67, 0.15);\n",
              "      fill: #174EA6;\n",
              "    }\n",
              "\n",
              "    .colab-df-buttons div {\n",
              "      margin-bottom: 4px;\n",
              "    }\n",
              "\n",
              "    [theme=dark] .colab-df-convert {\n",
              "      background-color: #3B4455;\n",
              "      fill: #D2E3FC;\n",
              "    }\n",
              "\n",
              "    [theme=dark] .colab-df-convert:hover {\n",
              "      background-color: #434B5C;\n",
              "      box-shadow: 0px 1px 3px 1px rgba(0, 0, 0, 0.15);\n",
              "      filter: drop-shadow(0px 1px 2px rgba(0, 0, 0, 0.3));\n",
              "      fill: #FFFFFF;\n",
              "    }\n",
              "  </style>\n",
              "\n",
              "    <script>\n",
              "      const buttonEl =\n",
              "        document.querySelector('#df-095fbae7-6fb4-467e-9b15-d9aae7bc0138 button.colab-df-convert');\n",
              "      buttonEl.style.display =\n",
              "        google.colab.kernel.accessAllowed ? 'block' : 'none';\n",
              "\n",
              "      async function convertToInteractive(key) {\n",
              "        const element = document.querySelector('#df-095fbae7-6fb4-467e-9b15-d9aae7bc0138');\n",
              "        const dataTable =\n",
              "          await google.colab.kernel.invokeFunction('convertToInteractive',\n",
              "                                                    [key], {});\n",
              "        if (!dataTable) return;\n",
              "\n",
              "        const docLinkHtml = 'Like what you see? Visit the ' +\n",
              "          '<a target=\"_blank\" href=https://colab.research.google.com/notebooks/data_table.ipynb>data table notebook</a>'\n",
              "          + ' to learn more about interactive tables.';\n",
              "        element.innerHTML = '';\n",
              "        dataTable['output_type'] = 'display_data';\n",
              "        await google.colab.output.renderOutput(dataTable, element);\n",
              "        const docLink = document.createElement('div');\n",
              "        docLink.innerHTML = docLinkHtml;\n",
              "        element.appendChild(docLink);\n",
              "      }\n",
              "    </script>\n",
              "  </div>\n",
              "\n",
              "\n",
              "<div id=\"df-d8f35d04-3688-4f13-aa8a-a16eb2feca25\">\n",
              "  <button class=\"colab-df-quickchart\" onclick=\"quickchart('df-d8f35d04-3688-4f13-aa8a-a16eb2feca25')\"\n",
              "            title=\"Suggest charts\"\n",
              "            style=\"display:none;\">\n",
              "\n",
              "<svg xmlns=\"http://www.w3.org/2000/svg\" height=\"24px\"viewBox=\"0 0 24 24\"\n",
              "     width=\"24px\">\n",
              "    <g>\n",
              "        <path d=\"M19 3H5c-1.1 0-2 .9-2 2v14c0 1.1.9 2 2 2h14c1.1 0 2-.9 2-2V5c0-1.1-.9-2-2-2zM9 17H7v-7h2v7zm4 0h-2V7h2v10zm4 0h-2v-4h2v4z\"/>\n",
              "    </g>\n",
              "</svg>\n",
              "  </button>\n",
              "\n",
              "<style>\n",
              "  .colab-df-quickchart {\n",
              "      --bg-color: #E8F0FE;\n",
              "      --fill-color: #1967D2;\n",
              "      --hover-bg-color: #E2EBFA;\n",
              "      --hover-fill-color: #174EA6;\n",
              "      --disabled-fill-color: #AAA;\n",
              "      --disabled-bg-color: #DDD;\n",
              "  }\n",
              "\n",
              "  [theme=dark] .colab-df-quickchart {\n",
              "      --bg-color: #3B4455;\n",
              "      --fill-color: #D2E3FC;\n",
              "      --hover-bg-color: #434B5C;\n",
              "      --hover-fill-color: #FFFFFF;\n",
              "      --disabled-bg-color: #3B4455;\n",
              "      --disabled-fill-color: #666;\n",
              "  }\n",
              "\n",
              "  .colab-df-quickchart {\n",
              "    background-color: var(--bg-color);\n",
              "    border: none;\n",
              "    border-radius: 50%;\n",
              "    cursor: pointer;\n",
              "    display: none;\n",
              "    fill: var(--fill-color);\n",
              "    height: 32px;\n",
              "    padding: 0;\n",
              "    width: 32px;\n",
              "  }\n",
              "\n",
              "  .colab-df-quickchart:hover {\n",
              "    background-color: var(--hover-bg-color);\n",
              "    box-shadow: 0 1px 2px rgba(60, 64, 67, 0.3), 0 1px 3px 1px rgba(60, 64, 67, 0.15);\n",
              "    fill: var(--button-hover-fill-color);\n",
              "  }\n",
              "\n",
              "  .colab-df-quickchart-complete:disabled,\n",
              "  .colab-df-quickchart-complete:disabled:hover {\n",
              "    background-color: var(--disabled-bg-color);\n",
              "    fill: var(--disabled-fill-color);\n",
              "    box-shadow: none;\n",
              "  }\n",
              "\n",
              "  .colab-df-spinner {\n",
              "    border: 2px solid var(--fill-color);\n",
              "    border-color: transparent;\n",
              "    border-bottom-color: var(--fill-color);\n",
              "    animation:\n",
              "      spin 1s steps(1) infinite;\n",
              "  }\n",
              "\n",
              "  @keyframes spin {\n",
              "    0% {\n",
              "      border-color: transparent;\n",
              "      border-bottom-color: var(--fill-color);\n",
              "      border-left-color: var(--fill-color);\n",
              "    }\n",
              "    20% {\n",
              "      border-color: transparent;\n",
              "      border-left-color: var(--fill-color);\n",
              "      border-top-color: var(--fill-color);\n",
              "    }\n",
              "    30% {\n",
              "      border-color: transparent;\n",
              "      border-left-color: var(--fill-color);\n",
              "      border-top-color: var(--fill-color);\n",
              "      border-right-color: var(--fill-color);\n",
              "    }\n",
              "    40% {\n",
              "      border-color: transparent;\n",
              "      border-right-color: var(--fill-color);\n",
              "      border-top-color: var(--fill-color);\n",
              "    }\n",
              "    60% {\n",
              "      border-color: transparent;\n",
              "      border-right-color: var(--fill-color);\n",
              "    }\n",
              "    80% {\n",
              "      border-color: transparent;\n",
              "      border-right-color: var(--fill-color);\n",
              "      border-bottom-color: var(--fill-color);\n",
              "    }\n",
              "    90% {\n",
              "      border-color: transparent;\n",
              "      border-bottom-color: var(--fill-color);\n",
              "    }\n",
              "  }\n",
              "</style>\n",
              "\n",
              "  <script>\n",
              "    async function quickchart(key) {\n",
              "      const quickchartButtonEl =\n",
              "        document.querySelector('#' + key + ' button');\n",
              "      quickchartButtonEl.disabled = true;  // To prevent multiple clicks.\n",
              "      quickchartButtonEl.classList.add('colab-df-spinner');\n",
              "      try {\n",
              "        const charts = await google.colab.kernel.invokeFunction(\n",
              "            'suggestCharts', [key], {});\n",
              "      } catch (error) {\n",
              "        console.error('Error during call to suggestCharts:', error);\n",
              "      }\n",
              "      quickchartButtonEl.classList.remove('colab-df-spinner');\n",
              "      quickchartButtonEl.classList.add('colab-df-quickchart-complete');\n",
              "    }\n",
              "    (() => {\n",
              "      let quickchartButtonEl =\n",
              "        document.querySelector('#df-d8f35d04-3688-4f13-aa8a-a16eb2feca25 button');\n",
              "      quickchartButtonEl.style.display =\n",
              "        google.colab.kernel.accessAllowed ? 'block' : 'none';\n",
              "    })();\n",
              "  </script>\n",
              "</div>\n",
              "\n",
              "  <div id=\"id_82d75adf-d5a5-4c0c-994c-afc23542d2e3\">\n",
              "    <style>\n",
              "      .colab-df-generate {\n",
              "        background-color: #E8F0FE;\n",
              "        border: none;\n",
              "        border-radius: 50%;\n",
              "        cursor: pointer;\n",
              "        display: none;\n",
              "        fill: #1967D2;\n",
              "        height: 32px;\n",
              "        padding: 0 0 0 0;\n",
              "        width: 32px;\n",
              "      }\n",
              "\n",
              "      .colab-df-generate:hover {\n",
              "        background-color: #E2EBFA;\n",
              "        box-shadow: 0px 1px 2px rgba(60, 64, 67, 0.3), 0px 1px 3px 1px rgba(60, 64, 67, 0.15);\n",
              "        fill: #174EA6;\n",
              "      }\n",
              "\n",
              "      [theme=dark] .colab-df-generate {\n",
              "        background-color: #3B4455;\n",
              "        fill: #D2E3FC;\n",
              "      }\n",
              "\n",
              "      [theme=dark] .colab-df-generate:hover {\n",
              "        background-color: #434B5C;\n",
              "        box-shadow: 0px 1px 3px 1px rgba(0, 0, 0, 0.15);\n",
              "        filter: drop-shadow(0px 1px 2px rgba(0, 0, 0, 0.3));\n",
              "        fill: #FFFFFF;\n",
              "      }\n",
              "    </style>\n",
              "    <button class=\"colab-df-generate\" onclick=\"generateWithVariable('purchases')\"\n",
              "            title=\"Generate code using this dataframe.\"\n",
              "            style=\"display:none;\">\n",
              "\n",
              "  <svg xmlns=\"http://www.w3.org/2000/svg\" height=\"24px\"viewBox=\"0 0 24 24\"\n",
              "       width=\"24px\">\n",
              "    <path d=\"M7,19H8.4L18.45,9,17,7.55,7,17.6ZM5,21V16.75L18.45,3.32a2,2,0,0,1,2.83,0l1.4,1.43a1.91,1.91,0,0,1,.58,1.4,1.91,1.91,0,0,1-.58,1.4L9.25,21ZM18.45,9,17,7.55Zm-12,3A5.31,5.31,0,0,0,4.9,8.1,5.31,5.31,0,0,0,1,6.5,5.31,5.31,0,0,0,4.9,4.9,5.31,5.31,0,0,0,6.5,1,5.31,5.31,0,0,0,8.1,4.9,5.31,5.31,0,0,0,12,6.5,5.46,5.46,0,0,0,6.5,12Z\"/>\n",
              "  </svg>\n",
              "    </button>\n",
              "    <script>\n",
              "      (() => {\n",
              "      const buttonEl =\n",
              "        document.querySelector('#id_82d75adf-d5a5-4c0c-994c-afc23542d2e3 button.colab-df-generate');\n",
              "      buttonEl.style.display =\n",
              "        google.colab.kernel.accessAllowed ? 'block' : 'none';\n",
              "\n",
              "      buttonEl.onclick = () => {\n",
              "        google.colab.notebook.generateWithVariable('purchases');\n",
              "      }\n",
              "      })();\n",
              "    </script>\n",
              "  </div>\n",
              "\n",
              "    </div>\n",
              "  </div>\n"
            ],
            "application/vnd.google.colaboratory.intrinsic+json": {
              "type": "dataframe",
              "variable_name": "purchases",
              "summary": "{\n  \"name\": \"purchases\",\n  \"rows\": 4,\n  \"fields\": [\n    {\n      \"column\": \"apples\",\n      \"properties\": {\n        \"dtype\": \"number\",\n        \"std\": 1,\n        \"min\": 0,\n        \"max\": 3,\n        \"num_unique_values\": 4,\n        \"samples\": [\n          2,\n          1,\n          3\n        ],\n        \"semantic_type\": \"\",\n        \"description\": \"\"\n      }\n    },\n    {\n      \"column\": \"oranges\",\n      \"properties\": {\n        \"dtype\": \"number\",\n        \"std\": 2,\n        \"min\": 0,\n        \"max\": 7,\n        \"num_unique_values\": 4,\n        \"samples\": [\n          3,\n          2,\n          0\n        ],\n        \"semantic_type\": \"\",\n        \"description\": \"\"\n      }\n    }\n  ]\n}"
            }
          },
          "metadata": {},
          "execution_count": 59
        }
      ]
    },
    {
      "cell_type": "code",
      "metadata": {
        "id": "DcbNO0cTEvM8",
        "colab": {
          "base_uri": "https://localhost:8080/",
          "height": 147
        },
        "outputId": "e4dbc54c-ab36-4bea-efbd-e71766ad0caf"
      },
      "source": [
        "purchases.loc['June']"
      ],
      "execution_count": null,
      "outputs": [
        {
          "output_type": "execute_result",
          "data": {
            "text/plain": [
              "apples     3\n",
              "oranges    0\n",
              "Name: June, dtype: int64"
            ],
            "text/html": [
              "<div>\n",
              "<style scoped>\n",
              "    .dataframe tbody tr th:only-of-type {\n",
              "        vertical-align: middle;\n",
              "    }\n",
              "\n",
              "    .dataframe tbody tr th {\n",
              "        vertical-align: top;\n",
              "    }\n",
              "\n",
              "    .dataframe thead th {\n",
              "        text-align: right;\n",
              "    }\n",
              "</style>\n",
              "<table border=\"1\" class=\"dataframe\">\n",
              "  <thead>\n",
              "    <tr style=\"text-align: right;\">\n",
              "      <th></th>\n",
              "      <th>June</th>\n",
              "    </tr>\n",
              "  </thead>\n",
              "  <tbody>\n",
              "    <tr>\n",
              "      <th>apples</th>\n",
              "      <td>3</td>\n",
              "    </tr>\n",
              "    <tr>\n",
              "      <th>oranges</th>\n",
              "      <td>0</td>\n",
              "    </tr>\n",
              "  </tbody>\n",
              "</table>\n",
              "</div><br><label><b>dtype:</b> int64</label>"
            ]
          },
          "metadata": {},
          "execution_count": 60
        }
      ]
    },
    {
      "cell_type": "markdown",
      "metadata": {
        "id": "RPgpbtCAE-oH"
      },
      "source": [
        "Further reading: [Pandas cheat sheet](https://pandas.pydata.org/Pandas_Cheat_Sheet.pdf)"
      ]
    },
    {
      "cell_type": "markdown",
      "metadata": {
        "id": "22Apuzh68Qw0"
      },
      "source": [
        "### Scikit-learn"
      ]
    },
    {
      "cell_type": "markdown",
      "metadata": {
        "id": "w7l1LUsJ8Vpv"
      },
      "source": [
        "<img src=\"https://su2.utia.cas.cz/files/labs/23-200/scikit.png\">\n",
        "\n",
        "[Scikit-learn](https://scikit-learn.org/stable/index.html) (also known as sklearn) is a free software machine learning library for Python. We will jump into it in the next Part."
      ]
    },
    {
      "cell_type": "markdown",
      "metadata": {
        "id": "ydzttFPiGkES"
      },
      "source": [
        "## ✍🏼 Excercise 4\n"
      ]
    },
    {
      "cell_type": "markdown",
      "metadata": {
        "id": "naxl-aCQGkES"
      },
      "source": [
        "*Plot $ \\sin{(x)} $ and $ \\cos{(x)} $ functions for $ x \\in [0, 10] $ using the [`plot`](https://matplotlib.org/stable/api/_as_gen/matplotlib.pyplot.plot.html) function.*\n",
        "\n",
        "*Change the linestyles, axes labels, and add legend exactly as it is in this figure:*\n",
        "\n",
        "<img src=\"https://su2.utia.cas.cz/files/labs/23-200/e2014a.png\">\n"
      ]
    },
    {
      "cell_type": "markdown",
      "metadata": {
        "id": "ZlMBlpTnpsXE"
      },
      "source": [
        "<h3>Add your code...</h3>"
      ]
    },
    {
      "cell_type": "markdown",
      "metadata": {
        "id": "wdzBptJ2D-UC"
      },
      "source": [
        "## ✍🏼 Excercise 5"
      ]
    },
    {
      "cell_type": "markdown",
      "metadata": {
        "id": "ZTMQvfx5D-UD"
      },
      "source": [
        "*Use [`pandas`](https://pandas.pydata.org/docs/index.html) library for all tasks in this exercise.*\n",
        "\n",
        "*Create a [`DataFrame`](https://pandas.pydata.org/docs/reference/api/pandas.DataFrame.html) from the following table (three columns: 'Name', 'Age', 'Rating'):*\n",
        "\n",
        "```\n",
        "print(df)\n",
        "```\n",
        "\n",
        "<img src=\"https://su2.utia.cas.cz/files/labs/23-200/pan_table.png\">\n",
        "\n",
        "*Calculate mean of the numerical columns.\n",
        "<br />Result:*\n",
        "\n",
        "<img src=\"https://su2.utia.cas.cz/files/labs/23-200/pandas_mean.png\">\n",
        "\n",
        "*Calculate standard deviation of the numerical columns.\n",
        "<br />Result:*\n",
        "\n",
        "<img src=\"https://su2.utia.cas.cz/files/labs/23-200/pandas_std.png\">\n",
        "\n",
        "*Sort DataFrame based on the 'Age' column.\n",
        "<br />Result:*\n",
        "\n",
        "<img src=\"https://su2.utia.cas.cz/files/labs/23-200/pandas_sort.png\">\n",
        "\n"
      ]
    },
    {
      "cell_type": "markdown",
      "metadata": {
        "id": "JtiS1aPUpm-E"
      },
      "source": [
        "<h3>Add your code...</h3>"
      ]
    },
    {
      "cell_type": "markdown",
      "metadata": {
        "id": "h1UbxeZ8mL_s"
      },
      "source": [
        "# Part 6: Machine learning with Python\n",
        "\n"
      ]
    },
    {
      "cell_type": "markdown",
      "metadata": {
        "id": "8DuaTN-x6wHn"
      },
      "source": [
        "<img src=\"https://su2.utia.cas.cz/files/labs/23-200/ml_overview.png\">\n",
        "\n",
        "## Machine Learning applications\n",
        "\n",
        "<img src=\"https://su2.utia.cas.cz/files/labs/23-200/ml_apl.png\">\n",
        "\n",
        "\n",
        "\n"
      ]
    },
    {
      "cell_type": "markdown",
      "metadata": {
        "id": "WH1ImfcsdsMm"
      },
      "source": [
        "## Regression\n",
        "is about fitting a shape that gets as close to the data as possible.\n",
        "\n",
        "<img src=\"https://su2.utia.cas.cz/files/labs/23-200/regres.png\">"
      ]
    },
    {
      "cell_type": "markdown",
      "metadata": {
        "id": "xm4Y9U10SyAs"
      },
      "source": [
        "##Classification\n",
        "is about separating data into classes.\n",
        "\n",
        "<img src=\"https://su2.utia.cas.cz/files/labs/23-200/classification.png\">"
      ]
    },
    {
      "cell_type": "markdown",
      "metadata": {
        "id": "mTn2w5HfSnXA"
      },
      "source": [
        "## Basic steps\n",
        "<img src=\"https://su2.utia.cas.cz/files/labs/23-200/ml_steps.png\">"
      ]
    },
    {
      "cell_type": "markdown",
      "metadata": {
        "id": "xXohBl3ZSz9I"
      },
      "source": [
        "## Linear regression"
      ]
    },
    {
      "cell_type": "code",
      "metadata": {
        "id": "IaV4TkB16v3D",
        "colab": {
          "base_uri": "https://localhost:8080/",
          "height": 432
        },
        "outputId": "341d4d5f-3b52-4b59-994d-21d7103840e6"
      },
      "source": [
        "import numpy as np\n",
        "from sklearn.linear_model import LinearRegression\n",
        "import matplotlib.pyplot as plt\n",
        "from sklearn.model_selection import train_test_split\n",
        "from sklearn import datasets, metrics\n",
        "\n",
        "# 1. Prepare data\n",
        "X, y = datasets.make_regression(n_samples=100, n_features=1, noise=20, random_state=4)\n",
        "\n",
        "# 2. Split data\n",
        "X_train, X_test, y_train, y_test = train_test_split(X, y, test_size=0.2, random_state=1234)\n",
        "\n",
        "# 3. Design a model\n",
        "regressor = LinearRegression()\n",
        "\n",
        "# 4. Train a model\n",
        "regressor.fit(X_train, y_train)\n",
        "\n",
        "# 5. Make predictions\n",
        "predictions = regressor.predict(X_test)\n",
        "\n",
        "# 6. Evaluate predictions (visually)\n",
        "fig = plt.figure()\n",
        "m1 = plt.scatter(X_train, y_train)\n",
        "m2 = plt.scatter(X_test, y_test)\n",
        "y_pred_line = regressor.predict(X)\n",
        "plt.plot(X, y_pred_line, color=\"black\")\n",
        "plt.show()"
      ],
      "execution_count": null,
      "outputs": [
        {
          "output_type": "display_data",
          "data": {
            "text/plain": [
              "<Figure size 640x480 with 1 Axes>"
            ],
            "image/png": "[encoded data removed]"
          },
          "metadata": {}
        }
      ]
    },
    {
      "cell_type": "code",
      "metadata": {
        "id": "8ysuBx2HSomt",
        "colab": {
          "base_uri": "https://localhost:8080/"
        },
        "outputId": "31a46bd9-3114-48c3-8c32-d1e67243b3ad"
      },
      "source": [
        "# 6. Evaluate predictions (numerically)\n",
        "mse = np.mean((y_test - predictions) ** 2)\n",
        "print(\"Mean squared error:\", mse)\n",
        "\n",
        "accu = metrics.r2_score(y_test, predictions)\n",
        "print(f\"Accuracy (r2 score): {accu*100:.2f} %\")"
      ],
      "execution_count": null,
      "outputs": [
        {
          "output_type": "stream",
          "name": "stdout",
          "text": [
            "Mean squared error: 305.7741316228642\n",
            "Accuracy (r2 score): 92.48 %\n"
          ]
        }
      ]
    },
    {
      "cell_type": "markdown",
      "metadata": {
        "id": "_GxW1QpkoiaA"
      },
      "source": [
        "## Support-vector machine (SVM)\n"
      ]
    },
    {
      "cell_type": "markdown",
      "metadata": {
        "id": "hi4gt9_sk0L-"
      },
      "source": [
        "<img src=\"https://su2.utia.cas.cz/files/labs/23-200/svm1.png\">\n",
        "<img src=\"https://su2.utia.cas.cz/files/labs/23-200/svm4.jpg\">\n",
        "<img src=\"https://su2.utia.cas.cz/files/labs/23-200/svmm.png\">"
      ]
    },
    {
      "cell_type": "markdown",
      "metadata": {
        "id": "7J-O_A6sqXds"
      },
      "source": [
        "**Linear model**\n",
        "\n",
        "The linear model defines the classification of each data point $ x_i $. It uses the weighted sum $ w \\cdot x_i - b $ and checks whether it meets a margin criteria based on the label $ y_i $.\n",
        "\n",
        "$$\n",
        "\\begin{aligned}\n",
        "w \\cdot x_i - b &\\ge 1  &\\textrm{if}~ y_i &= 1 \\\\\n",
        "w \\cdot x_i - b &\\le -1 \\quad  &\\textrm{if}~  y_i &= -1\\\\\n",
        "\\\\\n",
        "y_i (w \\cdot x_i - b) &\\ge 1\n",
        "\\end{aligned}\n",
        "$$\n",
        "<br />\n",
        "\n",
        "**Loss function**\n",
        "\n",
        "The loss function is a blend of two terms:\n",
        "\n",
        "1. Regularization Term:  $\\lambda||w||^2$  — This helps prevent overfitting by penalizing large weights $w$.\n",
        "2. Hinge Loss: $\\frac{1}{n}\\sum_{i=1}^n \\max{(0, 1-y_i (w \\cdot x_i - b))} $ — This quantifies the misclassification error.\n",
        "\n",
        "\n",
        "$$\n",
        "\\begin{aligned}\n",
        "J = \\lambda||w||^2 + \\frac{1}{n}\\sum_{i=1}^n \\max{(0, 1-y_i (w \\cdot x_i - b) )}\n",
        "\\end{aligned}\n",
        "$$\n",
        "<br />\n",
        "**Gradients**\n",
        "\n",
        "The gradients are used for updating the weights $w$ and bias $b$ during optimization. The gradients differ depending on whether the data point is correctly classified beyond the margin or not.\n",
        "<br /><br />\n",
        "\n",
        "if $y_i (w \\cdot x_i - b) \\ge 1$\n",
        "$$\n",
        "\\begin{aligned}\n",
        "J_i = \\lambda||w||^2\n",
        "\\end{aligned}\n",
        "$$\n",
        "<br />\n",
        "$$\n",
        "\\begin{aligned}\n",
        "\\frac{\\partial J_i}{dw_k} &= 2\\lambda w_k \\\\\n",
        "\\frac{\\partial J_i}{db} &= 0 \\\\\n",
        "\\end{aligned}\n",
        "$$\n",
        "<br />\n",
        "else\n",
        "$$\n",
        "\\begin{aligned}\n",
        "J_i = \\lambda||w||^2 + 1-y_i (w \\cdot x_i - b)\n",
        "\\end{aligned}\n",
        "$$\n",
        "<br />\n",
        "$$\n",
        "\\begin{aligned}\n",
        "\\frac{\\partial J_i}{dw_k} &= 2\\lambda w_k - y_i \\cdot x_i\\\\\n",
        "\\frac{\\partial J_i}{db} &= y_i \\\\\n",
        "\\end{aligned}\n",
        "$$\n",
        "<br />\n"
      ]
    },
    {
      "cell_type": "markdown",
      "metadata": {
        "id": "TnFS2_3iys06"
      },
      "source": [
        "<img src=\"https://su2.utia.cas.cz/files/labs/23-200/gd.png\">"
      ]
    },
    {
      "cell_type": "markdown",
      "metadata": {
        "id": "Yec337YKzcfZ"
      },
      "source": [
        "**Update rule**\n",
        "\n",
        "\n",
        "To optimize the model, we update the weights $ \\omega$ and bias $b$ using the calculated gradients. For each training sample $x_i$, the update rule is as follows:\n",
        "\n",
        "\n",
        "$$\n",
        "\\begin{aligned}\n",
        "\\omega &= \\omega - \\alpha \\frac{\\partial J_i}{d\\omega} \\\\\n",
        "b &= b - \\alpha \\frac{\\partial J_i}{db}\n",
        "\\end{aligned}\n",
        "$$\n",
        "<br />"
      ]
    },
    {
      "cell_type": "code",
      "metadata": {
        "id": "5rQDQoBDbNk0"
      },
      "source": [
        "import numpy as np\n",
        "\n",
        "class SVM:\n",
        "    def __init__(self, learning_rate=0.001, lambda_param=0.01, n_iters=1000):\n",
        "        self.lr = learning_rate\n",
        "        self.lambda_param = lambda_param\n",
        "        self.n_iters = n_iters\n",
        "        self.w = None\n",
        "        self.b = None\n",
        "\n",
        "    def fit(self, X, y):\n",
        "        n_samples, n_features = X.shape\n",
        "\n",
        "        y_ = np.where(y <= 0, -1, 1)\n",
        "\n",
        "        self.w = np.zeros(n_features)\n",
        "        self.b = 0\n",
        "\n",
        "        for _ in range(self.n_iters):\n",
        "            for idx, x_i in enumerate(X):\n",
        "                condition = y_[idx] * (np.dot(x_i, self.w) - self.b) >= 1\n",
        "                if condition:\n",
        "                    self.w = self.w - self.lr * (2 * self.lambda_param * self.w)\n",
        "                else:\n",
        "                    self.w = self.w - self.lr * (\n",
        "                        2 * self.lambda_param * self.w - np.dot(x_i, y_[idx])\n",
        "                    )\n",
        "                    self.b = self.b - self.lr * y_[idx]\n",
        "\n",
        "    def predict(self, X):\n",
        "        approx = np.dot(X, self.w) - self.b\n",
        "        return np.sign(approx)"
      ],
      "execution_count": null,
      "outputs": []
    },
    {
      "cell_type": "code",
      "metadata": {
        "id": "8tll4R82RfMH",
        "colab": {
          "base_uri": "https://localhost:8080/",
          "height": 447
        },
        "outputId": "bb611b2d-a15e-4c34-8f77-d7520c8303c5"
      },
      "source": [
        "from sklearn import datasets\n",
        "import matplotlib.pyplot as plt\n",
        "from sklearn.model_selection import train_test_split\n",
        "\n",
        "# 1. Prepare data\n",
        "X, y = datasets.make_blobs(n_samples=100, n_features=2, centers=2, cluster_std=1.05, random_state=40)\n",
        "y = np.where(y == 0, -1, 1)\n",
        "\n",
        "# 2. Split data\n",
        "X_train, X_test, y_train, y_test = train_test_split(X, y, test_size=0.2, random_state=1234)\n",
        "\n",
        "# 3. Design a model\n",
        "clf = SVM(learning_rate=0.001, lambda_param=0.01, n_iters=1000)\n",
        "\n",
        "# 4. Train a model\n",
        "clf.fit(X_train, y_train)\n",
        "\n",
        "# 5. Make predictions\n",
        "predictions = clf.predict(X_test)\n",
        "print(clf.w, clf.b)\n",
        "\n",
        "# 6. Evaluate predictions\n",
        "\n",
        "def get_hyperplane_value(x, w, b, offset):\n",
        "    return (-w[0] * x + b + offset) / w[1]\n",
        "\n",
        "fig = plt.figure()\n",
        "ax = fig.add_subplot(1, 1, 1)\n",
        "plt.scatter(X_train[:, 0], X_train[:, 1], marker=\"o\", c=y_train)\n",
        "plt.scatter(X_test[:, 0], X_test[:, 1], marker=\"x\", c=predictions)\n",
        "\n",
        "x0_1 = np.amin(X_train[:, 0])\n",
        "x0_2 = np.amax(X_train[:, 0])\n",
        "\n",
        "x1_1 = get_hyperplane_value(x0_1, clf.w, clf.b, 0)\n",
        "x1_2 = get_hyperplane_value(x0_2, clf.w, clf.b, 0)\n",
        "\n",
        "x1_1_m = get_hyperplane_value(x0_1, clf.w, clf.b, -1)\n",
        "x1_2_m = get_hyperplane_value(x0_2, clf.w, clf.b, -1)\n",
        "\n",
        "x1_1_p = get_hyperplane_value(x0_1, clf.w, clf.b, 1)\n",
        "x1_2_p = get_hyperplane_value(x0_2, clf.w, clf.b, 1)\n",
        "\n",
        "ax.plot([x0_1, x0_2], [x1_1, x1_2], \"y--\")\n",
        "ax.plot([x0_1, x0_2], [x1_1_m, x1_2_m], \"k\")\n",
        "ax.plot([x0_1, x0_2], [x1_1_p, x1_2_p], \"k\")\n",
        "\n",
        "x1_min = np.amin(X_train[:, 1])\n",
        "x1_max = np.amax(X_train[:, 1])\n",
        "ax.set_ylim([x1_min - 3, x1_max + 3])\n",
        "\n",
        "plt.show()"
      ],
      "execution_count": null,
      "outputs": [
        {
          "output_type": "stream",
          "name": "stdout",
          "text": [
            "[0.46045689 0.16122914] -0.08600000000000006\n"
          ]
        },
        {
          "output_type": "display_data",
          "data": {
            "text/plain": [
              "<Figure size 640x480 with 1 Axes>"
            ],
            "image/png": "[encoded data removed]"
          },
          "metadata": {}
        }
      ]
    },
    {
      "cell_type": "markdown",
      "metadata": {
        "id": "3WNQG33xx9AH"
      },
      "source": [
        "## Quantifying the quality of predictions\n",
        "\n",
        "Read documentation about [Metrics and scoring](https://scikit-learn.org/stable/modules/model_evaluation.html) on Scikit-learn."
      ]
    },
    {
      "cell_type": "markdown",
      "metadata": {
        "id": "QZLp_v91sIKp"
      },
      "source": [
        "If $\\hat{y}_i$ is the predicted value of the $i$-th sample and $y_i$\n",
        " is the corresponding true value, then the fraction of correct predictions over\n",
        " is defined as<br /><br />\n",
        "\n",
        "$\\texttt{accuracy}(y, \\hat{y}) = \\frac{1}{n_\\text{samples}} \\sum_{i=0}^{n_\\text{samples}-1} 1(\\hat{y}_i = y_i)$ <br /><br />\n",
        "\n",
        "where $1(x)$ is the indicator function."
      ]
    },
    {
      "cell_type": "code",
      "metadata": {
        "id": "17kbRTOhh28P",
        "colab": {
          "base_uri": "https://localhost:8080/"
        },
        "outputId": "c071ec9f-3024-4472-fa51-7bcf136c23a0"
      },
      "source": [
        "# 6. Evaluate predictions (numerically)\n",
        "from sklearn.metrics import accuracy_score\n",
        "accuracy_score(predictions, y_test)"
      ],
      "execution_count": null,
      "outputs": [
        {
          "output_type": "execute_result",
          "data": {
            "text/plain": [
              "1.0"
            ]
          },
          "metadata": {},
          "execution_count": 65
        }
      ]
    },
    {
      "cell_type": "code",
      "metadata": {
        "id": "HFeNsruYuFjA",
        "colab": {
          "base_uri": "https://localhost:8080/"
        },
        "outputId": "67d33183-5d2b-4230-c84f-38184c09fa86"
      },
      "source": [
        "from sklearn.metrics import confusion_matrix\n",
        "confusion_matrix(predictions, y_test)"
      ],
      "execution_count": null,
      "outputs": [
        {
          "output_type": "execute_result",
          "data": {
            "text/plain": [
              "array([[13,  0],\n",
              "       [ 0,  7]])"
            ]
          },
          "metadata": {},
          "execution_count": 66
        }
      ]
    },
    {
      "cell_type": "markdown",
      "metadata": {
        "id": "PCU4OudIzLX_"
      },
      "source": [
        "<img src=\"https://su2.utia.cas.cz/files/labs/23-200/cm.jpg\">"
      ]
    },
    {
      "cell_type": "code",
      "metadata": {
        "id": "NcikIFynussY"
      },
      "source": [
        "tn, fp, fn, tp = confusion_matrix(predictions, y_test).ravel()"
      ],
      "execution_count": null,
      "outputs": []
    },
    {
      "cell_type": "code",
      "metadata": {
        "id": "bAmfOIewvN0w"
      },
      "source": [
        "sensitivity = tp / (tp+fn)\n",
        "specificity = tn / (tn+fp)\n",
        "precision = tp / (tp+fp)\n",
        "npv = tn / (tn+fn)\n",
        "accuracy = (tp+tn)/(tp+tn+fp+fn)"
      ],
      "execution_count": null,
      "outputs": []
    },
    {
      "cell_type": "code",
      "metadata": {
        "id": "cGmYrM_evheQ",
        "colab": {
          "base_uri": "https://localhost:8080/"
        },
        "outputId": "e2e28675-6a2d-454f-a41a-416e90726527"
      },
      "source": [
        "print(f'Sensitivity:\\t{sensitivity}\\nSpecificity:\\t{specificity}\\nPrecision:\\t{precision}\\nNPV:\\t\\t{npv}\\nAccuracy:\\t{accuracy} \\n')"
      ],
      "execution_count": null,
      "outputs": [
        {
          "output_type": "stream",
          "name": "stdout",
          "text": [
            "Sensitivity:\t1.0\n",
            "Specificity:\t1.0\n",
            "Precision:\t1.0\n",
            "NPV:\t\t1.0\n",
            "Accuracy:\t1.0 \n",
            "\n"
          ]
        }
      ]
    },
    {
      "cell_type": "code",
      "metadata": {
        "id": "gWouNI15we5i",
        "colab": {
          "base_uri": "https://localhost:8080/"
        },
        "outputId": "d3aca766-7172-4771-8bc0-156ab441dc86"
      },
      "source": [
        "from sklearn.metrics import classification_report\n",
        "print(classification_report(predictions, y_test))"
      ],
      "execution_count": null,
      "outputs": [
        {
          "output_type": "stream",
          "name": "stdout",
          "text": [
            "              precision    recall  f1-score   support\n",
            "\n",
            "        -1.0       1.00      1.00      1.00        13\n",
            "         1.0       1.00      1.00      1.00         7\n",
            "\n",
            "    accuracy                           1.00        20\n",
            "   macro avg       1.00      1.00      1.00        20\n",
            "weighted avg       1.00      1.00      1.00        20\n",
            "\n"
          ]
        }
      ]
    },
    {
      "cell_type": "markdown",
      "metadata": {
        "id": "8jII66zR5FTa"
      },
      "source": [
        "## k-nearest neighbors (KNN)\n",
        "\n",
        "### Iris Data Set\n",
        "* [“Hello World of machine learning\"](https://machinelearningmastery.com/machine-learning-in-python-step-by-step/)\n",
        "* [\"Perhaps the best known database to be found in the pattern recognition literature\"](https://archive.ics.uci.edu/ml/datasets/iris)\n",
        "\n",
        "<img src=\"https://s3.amazonaws.com/assets.datacamp.com/blog_assets/Machine+Learning+R/iris-machinelearning.png\">\n",
        "\n",
        "<img src=\"https://su2.utia.cas.cz/files/labs/23-200/knn.png\">"
      ]
    },
    {
      "cell_type": "code",
      "metadata": {
        "id": "AhP50Rt_YqJP"
      },
      "source": [
        "from collections import Counter\n",
        "import numpy as np\n",
        "\n",
        "def euclidean_distance(x1, x2):\n",
        "    return np.sqrt(np.sum((x1 - x2) ** 2))\n",
        "\n",
        "class KNN:\n",
        "    def __init__(self, k=3):\n",
        "        self.k = k\n",
        "\n",
        "    def fit(self, X, y):\n",
        "        self.X_train = X\n",
        "        self.y_train = y\n",
        "\n",
        "    def predict(self, X):\n",
        "        y_pred = [self._predict(x) for x in X]\n",
        "        return np.array(y_pred)\n",
        "\n",
        "    def _predict(self, x):\n",
        "        # Compute distances between x and all examples in the training set\n",
        "        distances = [euclidean_distance(x, x_train) for x_train in self.X_train]\n",
        "        # Sort by distance and return indices of the first k neighbors\n",
        "        k_idx = np.argsort(distances)[: self.k]\n",
        "        # Extract the labels of the k nearest neighbor training samples\n",
        "        k_neighbor_labels = [self.y_train[i] for i in k_idx]\n",
        "        # return the most common class label\n",
        "        most_common = Counter(k_neighbor_labels).most_common(1)\n",
        "        return most_common[0][0]"
      ],
      "execution_count": null,
      "outputs": []
    },
    {
      "cell_type": "code",
      "metadata": {
        "id": "yB_BRRsWhdrx",
        "colab": {
          "base_uri": "https://localhost:8080/",
          "height": 465
        },
        "outputId": "d9230d8c-b1aa-4617-bb80-35f24b87b575"
      },
      "source": [
        "from matplotlib.colors import ListedColormap\n",
        "from sklearn import datasets\n",
        "from sklearn.model_selection import train_test_split\n",
        "import matplotlib.pyplot as plt\n",
        "\n",
        "cmap = ListedColormap([\"#FF0000\", \"#00FF00\", \"#0000FF\"])\n",
        "\n",
        "def accuracy(y_true, y_pred):\n",
        "    accuracy = np.sum(y_true == y_pred) / len(y_true)\n",
        "    return accuracy\n",
        "\n",
        "# 1. Prepare data\n",
        "iris = datasets.load_iris()\n",
        "X, y = iris.data, iris.target\n",
        "\n",
        "# 2. Split data\n",
        "X_train, X_test, y_train, y_test = train_test_split(X, y, test_size=0.95, random_state=1234)\n",
        "\n",
        "# 3. Design a model\n",
        "k = 3\n",
        "clf = KNN(k=k)\n",
        "\n",
        "# 4. Train a model\n",
        "clf.fit(X_train, y_train)\n",
        "\n",
        "# 5. Make predictions\n",
        "predictions = clf.predict(X_test)\n",
        "\n",
        "# 6. Evaluate predictions\n",
        "print(\"KNN classification accuracy\", accuracy(y_test, predictions))\n",
        "\n",
        "plt.figure()\n",
        "plt.scatter(X[:,1],X[:,2],c=y, cmap=cmap, edgecolors='k', s=20 )\n",
        "plt.show()\n",
        "\n",
        "X_train.shape"
      ],
      "execution_count": null,
      "outputs": [
        {
          "output_type": "stream",
          "name": "stdout",
          "text": [
            "KNN classification accuracy 0.7062937062937062\n"
          ]
        },
        {
          "output_type": "display_data",
          "data": {
            "text/plain": [
              "<Figure size 640x480 with 1 Axes>"
            ],
            "image/png": "[encoded data removed]"
          },
          "metadata": {}
        },
        {
          "output_type": "execute_result",
          "data": {
            "text/plain": [
              "(7, 4)"
            ]
          },
          "metadata": {},
          "execution_count": 72
        }
      ]
    },
    {
      "cell_type": "markdown",
      "metadata": {
        "id": "AMTAGtrgNw1e"
      },
      "source": [
        "## ✍🏼 Excercise 6"
      ]
    },
    {
      "cell_type": "markdown",
      "metadata": {
        "id": "7G8a2un1Nw1e"
      },
      "source": [
        "*This excercise has two options.* <br /><br />\n",
        "\n",
        "---\n",
        "*First option - You can read the following interactive blog about decision trees (both pages):*\n",
        "\n",
        "> [A visual introduction to ML](http://www.r2d3.us/visual-intro-to-machine-learning-part-1/)\n",
        "\n",
        "> [Bias and Variance](http://www.r2d3.us/visual-intro-to-machine-learning-part-2/)\n",
        "\n",
        "And answer the following questions:\n",
        "\n",
        "\n",
        "*   Name some of the features (variables) in the classification task described in the article.\n",
        "*   What is a histogram?\n",
        "*   Authors write that \"Picking a split point has tradeoffs.\" Can you describe these tradeoffs?\n",
        "*   What are \"False positives\" and \"False negatives\" in the article?\n",
        "*   How do you understand Bias-Variance Tradeoff?\n",
        "\n",
        " <br /><br />\n",
        "\n",
        "---\n",
        "\n",
        "\n",
        "\n",
        "OR\n",
        "\n",
        "\n",
        "*Second option - you can program PCA (Principal Component Analysis) in Python according to this video (or by yourself)*\n",
        "\n",
        "> [Principal Component Analysis - Python Tutorial](https://youtu.be/52d7ha-GdV8?list=PLqnslRFeH2Upcrywf-u2etjdxxkL8nl7E)\n",
        "\n",
        "\n",
        "\n",
        "---\n",
        " <br /><br />\n",
        "\n"
      ]
    },
    {
      "cell_type": "markdown",
      "metadata": {
        "id": "gEEmwdaMXoDi"
      },
      "source": [
        "<h3>Add your answers or your code...</h3>"
      ]
    },
    {
      "cell_type": "code",
      "source": [],
      "metadata": {
        "id": "oTk-Qw-aZEv5"
      },
      "execution_count": null,
      "outputs": []
    },
    {
      "cell_type": "markdown",
      "metadata": {
        "id": "2gz_cjScoHO0"
      },
      "source": [
        "# Summary\n"
      ]
    },
    {
      "cell_type": "markdown",
      "metadata": {
        "id": "-uYhsQSzY4-m"
      },
      "source": [
        "![Footer Lab 0](https://su2.utia.cas.cz/files/labs/23-200/header1.png)"
      ]
    }
  ]
}